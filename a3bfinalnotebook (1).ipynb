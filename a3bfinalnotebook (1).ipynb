{
 "cells": [
  {
   "cell_type": "code",
   "execution_count": null,
   "id": "bbb06c37",
   "metadata": {
    "papermill": {
     "duration": 0.016731,
     "end_time": "2023-01-03T15:11:02.222453",
     "exception": false,
     "start_time": "2023-01-03T15:11:02.205722",
     "status": "completed"
    },
    "tags": []
   },
   "outputs": [],
   "source": []
  },
  {
   "cell_type": "raw",
   "id": "4b1e9dcd",
   "metadata": {
    "_cell_guid": "b1076dfc-b9ad-4769-8c92-a6c4dae69d19",
    "_uuid": "8f2839f25d086af736a60e9eeb907d3b93b6e0e5",
    "papermill": {
     "duration": 0.015675,
     "end_time": "2023-01-03T15:11:02.253835",
     "exception": false,
     "start_time": "2023-01-03T15:11:02.238160",
     "status": "completed"
    },
    "tags": []
   },
   "source": [
    "# This Python 3 environment comes with many helpful analytics libraries installed\n",
    "# It is defined by the kaggle/python Docker image: https://github.com/kaggle/docker-python\n",
    "# For example, here's several helpful packages to load\n",
    "\n",
    "import numpy as np # linear algebra\n",
    "import pandas as pd # data processing, CSV file I/O (e.g. pd.read_csv)\n",
    "\n",
    "# Input data files are available in the read-only \"../input/\" directory\n",
    "# For example, running this (by clicking run or pressing Shift+Enter) will list all files under the input directory\n",
    "\n",
    "import os\n",
    "for dirname, _, filenames in os.walk('/kaggle/input'):\n",
    "    for filename in filenames:\n",
    "        print(os.path.join(dirname, filename))\n",
    "\n",
    "# You can write up to 20GB to the current directory (/kaggle/working/) that gets preserved as output when you create a version using \"Save & Run All\" \n",
    "# You can also write temporary files to /kaggle/temp/, but they won't be saved outside of the current session"
   ]
  },
  {
   "cell_type": "code",
   "execution_count": 1,
   "id": "8002e704",
   "metadata": {
    "execution": {
     "iopub.execute_input": "2023-01-03T15:11:02.285169Z",
     "iopub.status.busy": "2023-01-03T15:11:02.284457Z",
     "iopub.status.idle": "2023-01-03T15:11:03.624306Z",
     "shell.execute_reply": "2023-01-03T15:11:03.622753Z"
    },
    "papermill": {
     "duration": 1.359837,
     "end_time": "2023-01-03T15:11:03.627997",
     "exception": false,
     "start_time": "2023-01-03T15:11:02.268160",
     "status": "completed"
    },
    "tags": []
   },
   "outputs": [],
   "source": [
    "import seaborn as sns\n",
    "import matplotlib.pyplot as plt\n",
    "import numpy as np # linear algebra\n",
    "import pandas as pd"
   ]
  },
  {
   "cell_type": "code",
   "execution_count": 2,
   "id": "45f93337",
   "metadata": {
    "execution": {
     "iopub.execute_input": "2023-01-03T15:11:03.658889Z",
     "iopub.status.busy": "2023-01-03T15:11:03.658439Z",
     "iopub.status.idle": "2023-01-03T15:11:03.667249Z",
     "shell.execute_reply": "2023-01-03T15:11:03.665909Z"
    },
    "papermill": {
     "duration": 0.027727,
     "end_time": "2023-01-03T15:11:03.670364",
     "exception": false,
     "start_time": "2023-01-03T15:11:03.642637",
     "status": "completed"
    },
    "tags": []
   },
   "outputs": [
    {
     "name": "stdout",
     "output_type": "stream",
     "text": [
      "/kaggle/input/novozymes-enzyme-stability-prediction/sample_submission.csv\n",
      "/kaggle/input/novozymes-enzyme-stability-prediction/wildtype_structure_prediction_af2.pdb\n",
      "/kaggle/input/novozymes-enzyme-stability-prediction/train.csv\n",
      "/kaggle/input/novozymes-enzyme-stability-prediction/test.csv\n",
      "/kaggle/input/novozymes-enzyme-stability-prediction/train_updates_20220929.csv\n"
     ]
    }
   ],
   "source": [
    "import os\n",
    "for dirname, _, filenames in os.walk('/kaggle/input'):\n",
    "    for filename in filenames:\n",
    "        print(os.path.join(dirname, filename))"
   ]
  },
  {
   "cell_type": "code",
   "execution_count": 3,
   "id": "54327ecc",
   "metadata": {
    "execution": {
     "iopub.execute_input": "2023-01-03T15:11:03.701801Z",
     "iopub.status.busy": "2023-01-03T15:11:03.700339Z",
     "iopub.status.idle": "2023-01-03T15:11:04.237748Z",
     "shell.execute_reply": "2023-01-03T15:11:04.236451Z"
    },
    "papermill": {
     "duration": 0.556206,
     "end_time": "2023-01-03T15:11:04.240933",
     "exception": false,
     "start_time": "2023-01-03T15:11:03.684727",
     "status": "completed"
    },
    "tags": []
   },
   "outputs": [],
   "source": [
    "traindata=pd.read_csv('/kaggle/input/novozymes-enzyme-stability-prediction/train.csv')\n"
   ]
  },
  {
   "cell_type": "code",
   "execution_count": 4,
   "id": "b8e7d56b",
   "metadata": {
    "execution": {
     "iopub.execute_input": "2023-01-03T15:11:04.271067Z",
     "iopub.status.busy": "2023-01-03T15:11:04.270580Z",
     "iopub.status.idle": "2023-01-03T15:11:04.307071Z",
     "shell.execute_reply": "2023-01-03T15:11:04.305732Z"
    },
    "papermill": {
     "duration": 0.055283,
     "end_time": "2023-01-03T15:11:04.310285",
     "exception": false,
     "start_time": "2023-01-03T15:11:04.255002",
     "status": "completed"
    },
    "tags": []
   },
   "outputs": [],
   "source": [
    "testdata=pd.read_csv('/kaggle/input/novozymes-enzyme-stability-prediction/test.csv')"
   ]
  },
  {
   "cell_type": "code",
   "execution_count": 5,
   "id": "80f4e275",
   "metadata": {
    "execution": {
     "iopub.execute_input": "2023-01-03T15:11:04.341611Z",
     "iopub.status.busy": "2023-01-03T15:11:04.340416Z",
     "iopub.status.idle": "2023-01-03T15:11:04.353355Z",
     "shell.execute_reply": "2023-01-03T15:11:04.351942Z"
    },
    "papermill": {
     "duration": 0.031326,
     "end_time": "2023-01-03T15:11:04.356324",
     "exception": false,
     "start_time": "2023-01-03T15:11:04.324998",
     "status": "completed"
    },
    "tags": []
   },
   "outputs": [],
   "source": [
    "traindata_update=pd.read_csv('/kaggle/input/novozymes-enzyme-stability-prediction/train_updates_20220929.csv')"
   ]
  },
  {
   "cell_type": "code",
   "execution_count": 6,
   "id": "8e052bfe",
   "metadata": {
    "execution": {
     "iopub.execute_input": "2023-01-03T15:11:04.388814Z",
     "iopub.status.busy": "2023-01-03T15:11:04.388349Z",
     "iopub.status.idle": "2023-01-03T15:11:04.417963Z",
     "shell.execute_reply": "2023-01-03T15:11:04.416974Z"
    },
    "papermill": {
     "duration": 0.049721,
     "end_time": "2023-01-03T15:11:04.420753",
     "exception": false,
     "start_time": "2023-01-03T15:11:04.371032",
     "status": "completed"
    },
    "tags": []
   },
   "outputs": [
    {
     "data": {
      "text/html": [
       "<div>\n",
       "<style scoped>\n",
       "    .dataframe tbody tr th:only-of-type {\n",
       "        vertical-align: middle;\n",
       "    }\n",
       "\n",
       "    .dataframe tbody tr th {\n",
       "        vertical-align: top;\n",
       "    }\n",
       "\n",
       "    .dataframe thead th {\n",
       "        text-align: right;\n",
       "    }\n",
       "</style>\n",
       "<table border=\"1\" class=\"dataframe\">\n",
       "  <thead>\n",
       "    <tr style=\"text-align: right;\">\n",
       "      <th></th>\n",
       "      <th>seq_id</th>\n",
       "      <th>protein_sequence</th>\n",
       "      <th>pH</th>\n",
       "      <th>data_source</th>\n",
       "    </tr>\n",
       "  </thead>\n",
       "  <tbody>\n",
       "    <tr>\n",
       "      <th>0</th>\n",
       "      <td>31390</td>\n",
       "      <td>VPVNPEPDATSVENVAEKTGSGDSQSDPIKADLEVKGQSALPFDVD...</td>\n",
       "      <td>8</td>\n",
       "      <td>Novozymes</td>\n",
       "    </tr>\n",
       "    <tr>\n",
       "      <th>1</th>\n",
       "      <td>31391</td>\n",
       "      <td>VPVNPEPDATSVENVAKKTGSGDSQSDPIKADLEVKGQSALPFDVD...</td>\n",
       "      <td>8</td>\n",
       "      <td>Novozymes</td>\n",
       "    </tr>\n",
       "    <tr>\n",
       "      <th>2</th>\n",
       "      <td>31392</td>\n",
       "      <td>VPVNPEPDATSVENVAKTGSGDSQSDPIKADLEVKGQSALPFDVDC...</td>\n",
       "      <td>8</td>\n",
       "      <td>Novozymes</td>\n",
       "    </tr>\n",
       "    <tr>\n",
       "      <th>3</th>\n",
       "      <td>31393</td>\n",
       "      <td>VPVNPEPDATSVENVALCTGSGDSQSDPIKADLEVKGQSALPFDVD...</td>\n",
       "      <td>8</td>\n",
       "      <td>Novozymes</td>\n",
       "    </tr>\n",
       "    <tr>\n",
       "      <th>4</th>\n",
       "      <td>31394</td>\n",
       "      <td>VPVNPEPDATSVENVALFTGSGDSQSDPIKADLEVKGQSALPFDVD...</td>\n",
       "      <td>8</td>\n",
       "      <td>Novozymes</td>\n",
       "    </tr>\n",
       "    <tr>\n",
       "      <th>...</th>\n",
       "      <td>...</td>\n",
       "      <td>...</td>\n",
       "      <td>...</td>\n",
       "      <td>...</td>\n",
       "    </tr>\n",
       "    <tr>\n",
       "      <th>2408</th>\n",
       "      <td>33798</td>\n",
       "      <td>VPVNPEPDATSVENVILKTGSGDSQSDPIKADLEVKGQSALPFDVD...</td>\n",
       "      <td>8</td>\n",
       "      <td>Novozymes</td>\n",
       "    </tr>\n",
       "    <tr>\n",
       "      <th>2409</th>\n",
       "      <td>33799</td>\n",
       "      <td>VPVNPEPDATSVENVLLKTGSGDSQSDPIKADLEVKGQSALPFDVD...</td>\n",
       "      <td>8</td>\n",
       "      <td>Novozymes</td>\n",
       "    </tr>\n",
       "    <tr>\n",
       "      <th>2410</th>\n",
       "      <td>33800</td>\n",
       "      <td>VPVNPEPDATSVENVNLKTGSGDSQSDPIKADLEVKGQSALPFDVD...</td>\n",
       "      <td>8</td>\n",
       "      <td>Novozymes</td>\n",
       "    </tr>\n",
       "    <tr>\n",
       "      <th>2411</th>\n",
       "      <td>33801</td>\n",
       "      <td>VPVNPEPDATSVENVPLKTGSGDSQSDPIKADLEVKGQSALPFDVD...</td>\n",
       "      <td>8</td>\n",
       "      <td>Novozymes</td>\n",
       "    </tr>\n",
       "    <tr>\n",
       "      <th>2412</th>\n",
       "      <td>33802</td>\n",
       "      <td>VPVNPEPDATSVENVWLKTGSGDSQSDPIKADLEVKGQSALPFDVD...</td>\n",
       "      <td>8</td>\n",
       "      <td>Novozymes</td>\n",
       "    </tr>\n",
       "  </tbody>\n",
       "</table>\n",
       "<p>2413 rows × 4 columns</p>\n",
       "</div>"
      ],
      "text/plain": [
       "      seq_id                                   protein_sequence  pH  \\\n",
       "0      31390  VPVNPEPDATSVENVAEKTGSGDSQSDPIKADLEVKGQSALPFDVD...   8   \n",
       "1      31391  VPVNPEPDATSVENVAKKTGSGDSQSDPIKADLEVKGQSALPFDVD...   8   \n",
       "2      31392  VPVNPEPDATSVENVAKTGSGDSQSDPIKADLEVKGQSALPFDVDC...   8   \n",
       "3      31393  VPVNPEPDATSVENVALCTGSGDSQSDPIKADLEVKGQSALPFDVD...   8   \n",
       "4      31394  VPVNPEPDATSVENVALFTGSGDSQSDPIKADLEVKGQSALPFDVD...   8   \n",
       "...      ...                                                ...  ..   \n",
       "2408   33798  VPVNPEPDATSVENVILKTGSGDSQSDPIKADLEVKGQSALPFDVD...   8   \n",
       "2409   33799  VPVNPEPDATSVENVLLKTGSGDSQSDPIKADLEVKGQSALPFDVD...   8   \n",
       "2410   33800  VPVNPEPDATSVENVNLKTGSGDSQSDPIKADLEVKGQSALPFDVD...   8   \n",
       "2411   33801  VPVNPEPDATSVENVPLKTGSGDSQSDPIKADLEVKGQSALPFDVD...   8   \n",
       "2412   33802  VPVNPEPDATSVENVWLKTGSGDSQSDPIKADLEVKGQSALPFDVD...   8   \n",
       "\n",
       "     data_source  \n",
       "0      Novozymes  \n",
       "1      Novozymes  \n",
       "2      Novozymes  \n",
       "3      Novozymes  \n",
       "4      Novozymes  \n",
       "...          ...  \n",
       "2408   Novozymes  \n",
       "2409   Novozymes  \n",
       "2410   Novozymes  \n",
       "2411   Novozymes  \n",
       "2412   Novozymes  \n",
       "\n",
       "[2413 rows x 4 columns]"
      ]
     },
     "execution_count": 6,
     "metadata": {},
     "output_type": "execute_result"
    }
   ],
   "source": [
    "testdata"
   ]
  },
  {
   "cell_type": "code",
   "execution_count": 7,
   "id": "eec3fc8a",
   "metadata": {
    "execution": {
     "iopub.execute_input": "2023-01-03T15:11:04.452713Z",
     "iopub.status.busy": "2023-01-03T15:11:04.451663Z",
     "iopub.status.idle": "2023-01-03T15:11:04.477880Z",
     "shell.execute_reply": "2023-01-03T15:11:04.476621Z"
    },
    "papermill": {
     "duration": 0.04555,
     "end_time": "2023-01-03T15:11:04.481273",
     "exception": false,
     "start_time": "2023-01-03T15:11:04.435723",
     "status": "completed"
    },
    "tags": []
   },
   "outputs": [
    {
     "name": "stdout",
     "output_type": "stream",
     "text": [
      "<class 'pandas.core.frame.DataFrame'>\n",
      "RangeIndex: 2434 entries, 0 to 2433\n",
      "Data columns (total 5 columns):\n",
      " #   Column            Non-Null Count  Dtype  \n",
      "---  ------            --------------  -----  \n",
      " 0   seq_id            2434 non-null   int64  \n",
      " 1   protein_sequence  25 non-null     object \n",
      " 2   pH                25 non-null     float64\n",
      " 3   data_source       0 non-null      float64\n",
      " 4   tm                25 non-null     float64\n",
      "dtypes: float64(3), int64(1), object(1)\n",
      "memory usage: 95.2+ KB\n"
     ]
    }
   ],
   "source": [
    "traindata_update.info()"
   ]
  },
  {
   "cell_type": "code",
   "execution_count": 8,
   "id": "a1cb8235",
   "metadata": {
    "execution": {
     "iopub.execute_input": "2023-01-03T15:11:04.514663Z",
     "iopub.status.busy": "2023-01-03T15:11:04.514243Z",
     "iopub.status.idle": "2023-01-03T15:11:04.528020Z",
     "shell.execute_reply": "2023-01-03T15:11:04.527013Z"
    },
    "papermill": {
     "duration": 0.033102,
     "end_time": "2023-01-03T15:11:04.530326",
     "exception": false,
     "start_time": "2023-01-03T15:11:04.497224",
     "status": "completed"
    },
    "tags": []
   },
   "outputs": [
    {
     "data": {
      "text/html": [
       "<div>\n",
       "<style scoped>\n",
       "    .dataframe tbody tr th:only-of-type {\n",
       "        vertical-align: middle;\n",
       "    }\n",
       "\n",
       "    .dataframe tbody tr th {\n",
       "        vertical-align: top;\n",
       "    }\n",
       "\n",
       "    .dataframe thead th {\n",
       "        text-align: right;\n",
       "    }\n",
       "</style>\n",
       "<table border=\"1\" class=\"dataframe\">\n",
       "  <thead>\n",
       "    <tr style=\"text-align: right;\">\n",
       "      <th></th>\n",
       "      <th>seq_id</th>\n",
       "      <th>protein_sequence</th>\n",
       "      <th>pH</th>\n",
       "      <th>data_source</th>\n",
       "      <th>tm</th>\n",
       "    </tr>\n",
       "  </thead>\n",
       "  <tbody>\n",
       "    <tr>\n",
       "      <th>0</th>\n",
       "      <td>0</td>\n",
       "      <td>AAAAKAAALALLGEAPEVVDIWLPAGWRQPFRVFRLERKGDGVLVG...</td>\n",
       "      <td>7.0</td>\n",
       "      <td>doi.org/10.1038/s41592-020-0801-4</td>\n",
       "      <td>75.7</td>\n",
       "    </tr>\n",
       "    <tr>\n",
       "      <th>1</th>\n",
       "      <td>1</td>\n",
       "      <td>AAADGEPLHNEEERAGAGQVGRSLPQESEEQRTGSRPRRRRDLGSR...</td>\n",
       "      <td>7.0</td>\n",
       "      <td>doi.org/10.1038/s41592-020-0801-4</td>\n",
       "      <td>50.5</td>\n",
       "    </tr>\n",
       "    <tr>\n",
       "      <th>2</th>\n",
       "      <td>2</td>\n",
       "      <td>AAAFSTPRATSYRILSSAGSGSTRADAPQVRRLHTTRDLLAKDYYA...</td>\n",
       "      <td>7.0</td>\n",
       "      <td>doi.org/10.1038/s41592-020-0801-4</td>\n",
       "      <td>40.5</td>\n",
       "    </tr>\n",
       "    <tr>\n",
       "      <th>3</th>\n",
       "      <td>3</td>\n",
       "      <td>AAASGLRTAIPAQPLRHLLQPAPRPCLRPFGLLSVRAGSARRSGLL...</td>\n",
       "      <td>7.0</td>\n",
       "      <td>doi.org/10.1038/s41592-020-0801-4</td>\n",
       "      <td>47.2</td>\n",
       "    </tr>\n",
       "    <tr>\n",
       "      <th>4</th>\n",
       "      <td>4</td>\n",
       "      <td>AAATKSGPRRQSQGASVRTFTPFYFLVEPVDTLSVRGSSVILNCSA...</td>\n",
       "      <td>7.0</td>\n",
       "      <td>doi.org/10.1038/s41592-020-0801-4</td>\n",
       "      <td>49.5</td>\n",
       "    </tr>\n",
       "  </tbody>\n",
       "</table>\n",
       "</div>"
      ],
      "text/plain": [
       "   seq_id                                   protein_sequence   pH  \\\n",
       "0       0  AAAAKAAALALLGEAPEVVDIWLPAGWRQPFRVFRLERKGDGVLVG...  7.0   \n",
       "1       1  AAADGEPLHNEEERAGAGQVGRSLPQESEEQRTGSRPRRRRDLGSR...  7.0   \n",
       "2       2  AAAFSTPRATSYRILSSAGSGSTRADAPQVRRLHTTRDLLAKDYYA...  7.0   \n",
       "3       3  AAASGLRTAIPAQPLRHLLQPAPRPCLRPFGLLSVRAGSARRSGLL...  7.0   \n",
       "4       4  AAATKSGPRRQSQGASVRTFTPFYFLVEPVDTLSVRGSSVILNCSA...  7.0   \n",
       "\n",
       "                         data_source    tm  \n",
       "0  doi.org/10.1038/s41592-020-0801-4  75.7  \n",
       "1  doi.org/10.1038/s41592-020-0801-4  50.5  \n",
       "2  doi.org/10.1038/s41592-020-0801-4  40.5  \n",
       "3  doi.org/10.1038/s41592-020-0801-4  47.2  \n",
       "4  doi.org/10.1038/s41592-020-0801-4  49.5  "
      ]
     },
     "execution_count": 8,
     "metadata": {},
     "output_type": "execute_result"
    }
   ],
   "source": [
    "traindata.head()"
   ]
  },
  {
   "cell_type": "code",
   "execution_count": 9,
   "id": "61456bd9",
   "metadata": {
    "execution": {
     "iopub.execute_input": "2023-01-03T15:11:04.564978Z",
     "iopub.status.busy": "2023-01-03T15:11:04.563566Z",
     "iopub.status.idle": "2023-01-03T15:11:04.586430Z",
     "shell.execute_reply": "2023-01-03T15:11:04.584831Z"
    },
    "papermill": {
     "duration": 0.044392,
     "end_time": "2023-01-03T15:11:04.589934",
     "exception": false,
     "start_time": "2023-01-03T15:11:04.545542",
     "status": "completed"
    },
    "tags": []
   },
   "outputs": [
    {
     "name": "stdout",
     "output_type": "stream",
     "text": [
      "<class 'pandas.core.frame.DataFrame'>\n",
      "RangeIndex: 31390 entries, 0 to 31389\n",
      "Data columns (total 5 columns):\n",
      " #   Column            Non-Null Count  Dtype  \n",
      "---  ------            --------------  -----  \n",
      " 0   seq_id            31390 non-null  int64  \n",
      " 1   protein_sequence  31390 non-null  object \n",
      " 2   pH                31104 non-null  float64\n",
      " 3   data_source       28043 non-null  object \n",
      " 4   tm                31390 non-null  float64\n",
      "dtypes: float64(2), int64(1), object(2)\n",
      "memory usage: 1.2+ MB\n"
     ]
    }
   ],
   "source": [
    "traindata.info()\n"
   ]
  },
  {
   "cell_type": "code",
   "execution_count": 10,
   "id": "2b3e8b41",
   "metadata": {
    "execution": {
     "iopub.execute_input": "2023-01-03T15:11:04.622728Z",
     "iopub.status.busy": "2023-01-03T15:11:04.622245Z",
     "iopub.status.idle": "2023-01-03T15:11:04.656235Z",
     "shell.execute_reply": "2023-01-03T15:11:04.655030Z"
    },
    "papermill": {
     "duration": 0.054088,
     "end_time": "2023-01-03T15:11:04.659420",
     "exception": false,
     "start_time": "2023-01-03T15:11:04.605332",
     "status": "completed"
    },
    "tags": []
   },
   "outputs": [
    {
     "data": {
      "text/html": [
       "<div>\n",
       "<style scoped>\n",
       "    .dataframe tbody tr th:only-of-type {\n",
       "        vertical-align: middle;\n",
       "    }\n",
       "\n",
       "    .dataframe tbody tr th {\n",
       "        vertical-align: top;\n",
       "    }\n",
       "\n",
       "    .dataframe thead th {\n",
       "        text-align: right;\n",
       "    }\n",
       "</style>\n",
       "<table border=\"1\" class=\"dataframe\">\n",
       "  <thead>\n",
       "    <tr style=\"text-align: right;\">\n",
       "      <th></th>\n",
       "      <th>seq_id</th>\n",
       "      <th>pH</th>\n",
       "      <th>tm</th>\n",
       "    </tr>\n",
       "  </thead>\n",
       "  <tbody>\n",
       "    <tr>\n",
       "      <th>count</th>\n",
       "      <td>31390.000000</td>\n",
       "      <td>31104.000000</td>\n",
       "      <td>31390.000000</td>\n",
       "    </tr>\n",
       "    <tr>\n",
       "      <th>mean</th>\n",
       "      <td>15694.500000</td>\n",
       "      <td>6.892339</td>\n",
       "      <td>49.147337</td>\n",
       "    </tr>\n",
       "    <tr>\n",
       "      <th>std</th>\n",
       "      <td>9061.656811</td>\n",
       "      <td>1.612225</td>\n",
       "      <td>14.010089</td>\n",
       "    </tr>\n",
       "    <tr>\n",
       "      <th>min</th>\n",
       "      <td>0.000000</td>\n",
       "      <td>1.990000</td>\n",
       "      <td>-1.000000</td>\n",
       "    </tr>\n",
       "    <tr>\n",
       "      <th>25%</th>\n",
       "      <td>7847.250000</td>\n",
       "      <td>7.000000</td>\n",
       "      <td>42.100000</td>\n",
       "    </tr>\n",
       "    <tr>\n",
       "      <th>50%</th>\n",
       "      <td>15694.500000</td>\n",
       "      <td>7.000000</td>\n",
       "      <td>48.000000</td>\n",
       "    </tr>\n",
       "    <tr>\n",
       "      <th>75%</th>\n",
       "      <td>23541.750000</td>\n",
       "      <td>7.000000</td>\n",
       "      <td>53.800000</td>\n",
       "    </tr>\n",
       "    <tr>\n",
       "      <th>max</th>\n",
       "      <td>31389.000000</td>\n",
       "      <td>64.900000</td>\n",
       "      <td>130.000000</td>\n",
       "    </tr>\n",
       "  </tbody>\n",
       "</table>\n",
       "</div>"
      ],
      "text/plain": [
       "             seq_id            pH            tm\n",
       "count  31390.000000  31104.000000  31390.000000\n",
       "mean   15694.500000      6.892339     49.147337\n",
       "std     9061.656811      1.612225     14.010089\n",
       "min        0.000000      1.990000     -1.000000\n",
       "25%     7847.250000      7.000000     42.100000\n",
       "50%    15694.500000      7.000000     48.000000\n",
       "75%    23541.750000      7.000000     53.800000\n",
       "max    31389.000000     64.900000    130.000000"
      ]
     },
     "execution_count": 10,
     "metadata": {},
     "output_type": "execute_result"
    }
   ],
   "source": [
    "traindata.describe()"
   ]
  },
  {
   "cell_type": "code",
   "execution_count": 11,
   "id": "8ae7af64",
   "metadata": {
    "execution": {
     "iopub.execute_input": "2023-01-03T15:11:04.693012Z",
     "iopub.status.busy": "2023-01-03T15:11:04.691938Z",
     "iopub.status.idle": "2023-01-03T15:11:04.709333Z",
     "shell.execute_reply": "2023-01-03T15:11:04.708192Z"
    },
    "papermill": {
     "duration": 0.036907,
     "end_time": "2023-01-03T15:11:04.712182",
     "exception": false,
     "start_time": "2023-01-03T15:11:04.675275",
     "status": "completed"
    },
    "tags": []
   },
   "outputs": [
    {
     "data": {
      "text/html": [
       "<div>\n",
       "<style scoped>\n",
       "    .dataframe tbody tr th:only-of-type {\n",
       "        vertical-align: middle;\n",
       "    }\n",
       "\n",
       "    .dataframe tbody tr th {\n",
       "        vertical-align: top;\n",
       "    }\n",
       "\n",
       "    .dataframe thead th {\n",
       "        text-align: right;\n",
       "    }\n",
       "</style>\n",
       "<table border=\"1\" class=\"dataframe\">\n",
       "  <thead>\n",
       "    <tr style=\"text-align: right;\">\n",
       "      <th></th>\n",
       "      <th>seq_id</th>\n",
       "      <th>pH</th>\n",
       "      <th>tm</th>\n",
       "    </tr>\n",
       "  </thead>\n",
       "  <tbody>\n",
       "    <tr>\n",
       "      <th>seq_id</th>\n",
       "      <td>1.000000</td>\n",
       "      <td>-0.040164</td>\n",
       "      <td>0.008750</td>\n",
       "    </tr>\n",
       "    <tr>\n",
       "      <th>pH</th>\n",
       "      <td>-0.040164</td>\n",
       "      <td>1.000000</td>\n",
       "      <td>-0.044544</td>\n",
       "    </tr>\n",
       "    <tr>\n",
       "      <th>tm</th>\n",
       "      <td>0.008750</td>\n",
       "      <td>-0.044544</td>\n",
       "      <td>1.000000</td>\n",
       "    </tr>\n",
       "  </tbody>\n",
       "</table>\n",
       "</div>"
      ],
      "text/plain": [
       "          seq_id        pH        tm\n",
       "seq_id  1.000000 -0.040164  0.008750\n",
       "pH     -0.040164  1.000000 -0.044544\n",
       "tm      0.008750 -0.044544  1.000000"
      ]
     },
     "execution_count": 11,
     "metadata": {},
     "output_type": "execute_result"
    }
   ],
   "source": [
    "traindata.corr()"
   ]
  },
  {
   "cell_type": "code",
   "execution_count": 12,
   "id": "0d535626",
   "metadata": {
    "execution": {
     "iopub.execute_input": "2023-01-03T15:11:04.746684Z",
     "iopub.status.busy": "2023-01-03T15:11:04.746008Z",
     "iopub.status.idle": "2023-01-03T15:11:04.753777Z",
     "shell.execute_reply": "2023-01-03T15:11:04.752321Z"
    },
    "papermill": {
     "duration": 0.028433,
     "end_time": "2023-01-03T15:11:04.756738",
     "exception": false,
     "start_time": "2023-01-03T15:11:04.728305",
     "status": "completed"
    },
    "tags": []
   },
   "outputs": [
    {
     "data": {
      "text/plain": [
       "Index(['seq_id', 'protein_sequence', 'pH', 'data_source', 'tm'], dtype='object')"
      ]
     },
     "execution_count": 12,
     "metadata": {},
     "output_type": "execute_result"
    }
   ],
   "source": [
    "traindata.columns"
   ]
  },
  {
   "cell_type": "markdown",
   "id": "000d2005",
   "metadata": {
    "papermill": {
     "duration": 0.016009,
     "end_time": "2023-01-03T15:11:04.789457",
     "exception": false,
     "start_time": "2023-01-03T15:11:04.773448",
     "status": "completed"
    },
    "tags": []
   },
   "source": [
    "#From above analysis we can find that there is no need of data_source from corelation and statistical description.\n",
    "#So we are removing it "
   ]
  },
  {
   "cell_type": "code",
   "execution_count": 13,
   "id": "c7fc1327",
   "metadata": {
    "execution": {
     "iopub.execute_input": "2023-01-03T15:11:04.822400Z",
     "iopub.status.busy": "2023-01-03T15:11:04.821940Z",
     "iopub.status.idle": "2023-01-03T15:11:04.835266Z",
     "shell.execute_reply": "2023-01-03T15:11:04.834390Z"
    },
    "papermill": {
     "duration": 0.033121,
     "end_time": "2023-01-03T15:11:04.838036",
     "exception": false,
     "start_time": "2023-01-03T15:11:04.804915",
     "status": "completed"
    },
    "tags": []
   },
   "outputs": [
    {
     "data": {
      "text/html": [
       "<div>\n",
       "<style scoped>\n",
       "    .dataframe tbody tr th:only-of-type {\n",
       "        vertical-align: middle;\n",
       "    }\n",
       "\n",
       "    .dataframe tbody tr th {\n",
       "        vertical-align: top;\n",
       "    }\n",
       "\n",
       "    .dataframe thead th {\n",
       "        text-align: right;\n",
       "    }\n",
       "</style>\n",
       "<table border=\"1\" class=\"dataframe\">\n",
       "  <thead>\n",
       "    <tr style=\"text-align: right;\">\n",
       "      <th></th>\n",
       "      <th>seq_id</th>\n",
       "      <th>protein_sequence</th>\n",
       "      <th>pH</th>\n",
       "      <th>data_source</th>\n",
       "      <th>tm</th>\n",
       "    </tr>\n",
       "  </thead>\n",
       "  <tbody>\n",
       "    <tr>\n",
       "      <th>0</th>\n",
       "      <td>0</td>\n",
       "      <td>AAAAKAAALALLGEAPEVVDIWLPAGWRQPFRVFRLERKGDGVLVG...</td>\n",
       "      <td>7.0</td>\n",
       "      <td>doi.org/10.1038/s41592-020-0801-4</td>\n",
       "      <td>75.7</td>\n",
       "    </tr>\n",
       "    <tr>\n",
       "      <th>1</th>\n",
       "      <td>1</td>\n",
       "      <td>AAADGEPLHNEEERAGAGQVGRSLPQESEEQRTGSRPRRRRDLGSR...</td>\n",
       "      <td>7.0</td>\n",
       "      <td>doi.org/10.1038/s41592-020-0801-4</td>\n",
       "      <td>50.5</td>\n",
       "    </tr>\n",
       "    <tr>\n",
       "      <th>2</th>\n",
       "      <td>2</td>\n",
       "      <td>AAAFSTPRATSYRILSSAGSGSTRADAPQVRRLHTTRDLLAKDYYA...</td>\n",
       "      <td>7.0</td>\n",
       "      <td>doi.org/10.1038/s41592-020-0801-4</td>\n",
       "      <td>40.5</td>\n",
       "    </tr>\n",
       "    <tr>\n",
       "      <th>3</th>\n",
       "      <td>3</td>\n",
       "      <td>AAASGLRTAIPAQPLRHLLQPAPRPCLRPFGLLSVRAGSARRSGLL...</td>\n",
       "      <td>7.0</td>\n",
       "      <td>doi.org/10.1038/s41592-020-0801-4</td>\n",
       "      <td>47.2</td>\n",
       "    </tr>\n",
       "    <tr>\n",
       "      <th>4</th>\n",
       "      <td>4</td>\n",
       "      <td>AAATKSGPRRQSQGASVRTFTPFYFLVEPVDTLSVRGSSVILNCSA...</td>\n",
       "      <td>7.0</td>\n",
       "      <td>doi.org/10.1038/s41592-020-0801-4</td>\n",
       "      <td>49.5</td>\n",
       "    </tr>\n",
       "  </tbody>\n",
       "</table>\n",
       "</div>"
      ],
      "text/plain": [
       "   seq_id                                   protein_sequence   pH  \\\n",
       "0       0  AAAAKAAALALLGEAPEVVDIWLPAGWRQPFRVFRLERKGDGVLVG...  7.0   \n",
       "1       1  AAADGEPLHNEEERAGAGQVGRSLPQESEEQRTGSRPRRRRDLGSR...  7.0   \n",
       "2       2  AAAFSTPRATSYRILSSAGSGSTRADAPQVRRLHTTRDLLAKDYYA...  7.0   \n",
       "3       3  AAASGLRTAIPAQPLRHLLQPAPRPCLRPFGLLSVRAGSARRSGLL...  7.0   \n",
       "4       4  AAATKSGPRRQSQGASVRTFTPFYFLVEPVDTLSVRGSSVILNCSA...  7.0   \n",
       "\n",
       "                         data_source    tm  \n",
       "0  doi.org/10.1038/s41592-020-0801-4  75.7  \n",
       "1  doi.org/10.1038/s41592-020-0801-4  50.5  \n",
       "2  doi.org/10.1038/s41592-020-0801-4  40.5  \n",
       "3  doi.org/10.1038/s41592-020-0801-4  47.2  \n",
       "4  doi.org/10.1038/s41592-020-0801-4  49.5  "
      ]
     },
     "execution_count": 13,
     "metadata": {},
     "output_type": "execute_result"
    }
   ],
   "source": [
    "traindata.head()\n"
   ]
  },
  {
   "cell_type": "code",
   "execution_count": 14,
   "id": "b0702e41",
   "metadata": {
    "execution": {
     "iopub.execute_input": "2023-01-03T15:11:04.871600Z",
     "iopub.status.busy": "2023-01-03T15:11:04.871147Z",
     "iopub.status.idle": "2023-01-03T15:11:04.893695Z",
     "shell.execute_reply": "2023-01-03T15:11:04.892310Z"
    },
    "papermill": {
     "duration": 0.04215,
     "end_time": "2023-01-03T15:11:04.896262",
     "exception": false,
     "start_time": "2023-01-03T15:11:04.854112",
     "status": "completed"
    },
    "tags": []
   },
   "outputs": [
    {
     "data": {
      "text/html": [
       "<div>\n",
       "<style scoped>\n",
       "    .dataframe tbody tr th:only-of-type {\n",
       "        vertical-align: middle;\n",
       "    }\n",
       "\n",
       "    .dataframe tbody tr th {\n",
       "        vertical-align: top;\n",
       "    }\n",
       "\n",
       "    .dataframe thead th {\n",
       "        text-align: right;\n",
       "    }\n",
       "</style>\n",
       "<table border=\"1\" class=\"dataframe\">\n",
       "  <thead>\n",
       "    <tr style=\"text-align: right;\">\n",
       "      <th></th>\n",
       "      <th>seq_id</th>\n",
       "      <th>protein_sequence</th>\n",
       "      <th>pH</th>\n",
       "      <th>tm</th>\n",
       "    </tr>\n",
       "  </thead>\n",
       "  <tbody>\n",
       "    <tr>\n",
       "      <th>0</th>\n",
       "      <td>0</td>\n",
       "      <td>AAAAKAAALALLGEAPEVVDIWLPAGWRQPFRVFRLERKGDGVLVG...</td>\n",
       "      <td>7.0</td>\n",
       "      <td>75.7</td>\n",
       "    </tr>\n",
       "    <tr>\n",
       "      <th>1</th>\n",
       "      <td>1</td>\n",
       "      <td>AAADGEPLHNEEERAGAGQVGRSLPQESEEQRTGSRPRRRRDLGSR...</td>\n",
       "      <td>7.0</td>\n",
       "      <td>50.5</td>\n",
       "    </tr>\n",
       "    <tr>\n",
       "      <th>2</th>\n",
       "      <td>2</td>\n",
       "      <td>AAAFSTPRATSYRILSSAGSGSTRADAPQVRRLHTTRDLLAKDYYA...</td>\n",
       "      <td>7.0</td>\n",
       "      <td>40.5</td>\n",
       "    </tr>\n",
       "    <tr>\n",
       "      <th>3</th>\n",
       "      <td>3</td>\n",
       "      <td>AAASGLRTAIPAQPLRHLLQPAPRPCLRPFGLLSVRAGSARRSGLL...</td>\n",
       "      <td>7.0</td>\n",
       "      <td>47.2</td>\n",
       "    </tr>\n",
       "    <tr>\n",
       "      <th>4</th>\n",
       "      <td>4</td>\n",
       "      <td>AAATKSGPRRQSQGASVRTFTPFYFLVEPVDTLSVRGSSVILNCSA...</td>\n",
       "      <td>7.0</td>\n",
       "      <td>49.5</td>\n",
       "    </tr>\n",
       "    <tr>\n",
       "      <th>...</th>\n",
       "      <td>...</td>\n",
       "      <td>...</td>\n",
       "      <td>...</td>\n",
       "      <td>...</td>\n",
       "    </tr>\n",
       "    <tr>\n",
       "      <th>31385</th>\n",
       "      <td>31385</td>\n",
       "      <td>YYMYSGGGSALAAGGGGAGRKGDWNDIDSIKKKDLHHSRGDEKAQG...</td>\n",
       "      <td>7.0</td>\n",
       "      <td>51.8</td>\n",
       "    </tr>\n",
       "    <tr>\n",
       "      <th>31386</th>\n",
       "      <td>31386</td>\n",
       "      <td>YYNDQHRLSSYSVETAMFLSWERAIVKPGAMFKKAVIGFNCNVDLI...</td>\n",
       "      <td>7.0</td>\n",
       "      <td>37.2</td>\n",
       "    </tr>\n",
       "    <tr>\n",
       "      <th>31387</th>\n",
       "      <td>31387</td>\n",
       "      <td>YYQRTLGAELLYKISFGEMPKSAQDSAENCPSGMQFPDTAIAHANV...</td>\n",
       "      <td>7.0</td>\n",
       "      <td>64.6</td>\n",
       "    </tr>\n",
       "    <tr>\n",
       "      <th>31388</th>\n",
       "      <td>31388</td>\n",
       "      <td>YYSFSDNITTVFLSRQAIDDDHSLSLGTISDVVESENGVVAADDAR...</td>\n",
       "      <td>7.0</td>\n",
       "      <td>50.7</td>\n",
       "    </tr>\n",
       "    <tr>\n",
       "      <th>31389</th>\n",
       "      <td>31389</td>\n",
       "      <td>YYVPDEYWQSLEVAHKLTFGYGYLTWEWVQGIRSYVYPLLIAGLYK...</td>\n",
       "      <td>7.0</td>\n",
       "      <td>37.6</td>\n",
       "    </tr>\n",
       "  </tbody>\n",
       "</table>\n",
       "<p>31390 rows × 4 columns</p>\n",
       "</div>"
      ],
      "text/plain": [
       "       seq_id                                   protein_sequence   pH    tm\n",
       "0           0  AAAAKAAALALLGEAPEVVDIWLPAGWRQPFRVFRLERKGDGVLVG...  7.0  75.7\n",
       "1           1  AAADGEPLHNEEERAGAGQVGRSLPQESEEQRTGSRPRRRRDLGSR...  7.0  50.5\n",
       "2           2  AAAFSTPRATSYRILSSAGSGSTRADAPQVRRLHTTRDLLAKDYYA...  7.0  40.5\n",
       "3           3  AAASGLRTAIPAQPLRHLLQPAPRPCLRPFGLLSVRAGSARRSGLL...  7.0  47.2\n",
       "4           4  AAATKSGPRRQSQGASVRTFTPFYFLVEPVDTLSVRGSSVILNCSA...  7.0  49.5\n",
       "...       ...                                                ...  ...   ...\n",
       "31385   31385  YYMYSGGGSALAAGGGGAGRKGDWNDIDSIKKKDLHHSRGDEKAQG...  7.0  51.8\n",
       "31386   31386  YYNDQHRLSSYSVETAMFLSWERAIVKPGAMFKKAVIGFNCNVDLI...  7.0  37.2\n",
       "31387   31387  YYQRTLGAELLYKISFGEMPKSAQDSAENCPSGMQFPDTAIAHANV...  7.0  64.6\n",
       "31388   31388  YYSFSDNITTVFLSRQAIDDDHSLSLGTISDVVESENGVVAADDAR...  7.0  50.7\n",
       "31389   31389  YYVPDEYWQSLEVAHKLTFGYGYLTWEWVQGIRSYVYPLLIAGLYK...  7.0  37.6\n",
       "\n",
       "[31390 rows x 4 columns]"
      ]
     },
     "execution_count": 14,
     "metadata": {},
     "output_type": "execute_result"
    }
   ],
   "source": [
    "traindata.drop(['data_source'],axis=1,inplace=True)\n",
    "traindata"
   ]
  },
  {
   "cell_type": "code",
   "execution_count": 15,
   "id": "f027e567",
   "metadata": {
    "execution": {
     "iopub.execute_input": "2023-01-03T15:11:04.930457Z",
     "iopub.status.busy": "2023-01-03T15:11:04.929786Z",
     "iopub.status.idle": "2023-01-03T15:11:04.946239Z",
     "shell.execute_reply": "2023-01-03T15:11:04.944933Z"
    },
    "papermill": {
     "duration": 0.036625,
     "end_time": "2023-01-03T15:11:04.949171",
     "exception": false,
     "start_time": "2023-01-03T15:11:04.912546",
     "status": "completed"
    },
    "tags": []
   },
   "outputs": [
    {
     "data": {
      "text/plain": [
       "seq_id                0\n",
       "protein_sequence      0\n",
       "pH                  286\n",
       "tm                    0\n",
       "dtype: int64"
      ]
     },
     "execution_count": 15,
     "metadata": {},
     "output_type": "execute_result"
    }
   ],
   "source": [
    "traindata.isnull().sum()"
   ]
  },
  {
   "cell_type": "markdown",
   "id": "4fdb1682",
   "metadata": {
    "papermill": {
     "duration": 0.015624,
     "end_time": "2023-01-03T15:11:04.980872",
     "exception": false,
     "start_time": "2023-01-03T15:11:04.965248",
     "status": "completed"
    },
    "tags": []
   },
   "source": [
    "#calculate null value present in training dataset."
   ]
  },
  {
   "cell_type": "code",
   "execution_count": 16,
   "id": "e5fcd5e2",
   "metadata": {
    "execution": {
     "iopub.execute_input": "2023-01-03T15:11:05.016794Z",
     "iopub.status.busy": "2023-01-03T15:11:05.016346Z",
     "iopub.status.idle": "2023-01-03T15:11:05.023234Z",
     "shell.execute_reply": "2023-01-03T15:11:05.022178Z"
    },
    "papermill": {
     "duration": 0.027969,
     "end_time": "2023-01-03T15:11:05.025844",
     "exception": false,
     "start_time": "2023-01-03T15:11:04.997875",
     "status": "completed"
    },
    "tags": []
   },
   "outputs": [],
   "source": [
    "traindata['pH'] = traindata['pH'].fillna(traindata['pH'].mean())"
   ]
  },
  {
   "cell_type": "code",
   "execution_count": 17,
   "id": "6fcd4902",
   "metadata": {
    "execution": {
     "iopub.execute_input": "2023-01-03T15:11:05.062023Z",
     "iopub.status.busy": "2023-01-03T15:11:05.060998Z",
     "iopub.status.idle": "2023-01-03T15:11:05.406177Z",
     "shell.execute_reply": "2023-01-03T15:11:05.404762Z"
    },
    "papermill": {
     "duration": 0.367188,
     "end_time": "2023-01-03T15:11:05.409325",
     "exception": false,
     "start_time": "2023-01-03T15:11:05.042137",
     "status": "completed"
    },
    "tags": []
   },
   "outputs": [
    {
     "data": {
      "text/plain": [
       "Text(0.5, 1.0, 'Heatmap for correlation between columns of training data')"
      ]
     },
     "execution_count": 17,
     "metadata": {},
     "output_type": "execute_result"
    },
    {
     "data": {
      "image/png": "[encoded data removed]",
      "text/plain": [
       "<Figure size 432x288 with 2 Axes>"
      ]
     },
     "metadata": {
      "needs_background": "light"
     },
     "output_type": "display_data"
    }
   ],
   "source": [
    "sns.heatmap(traindata.corr(),linewidths=1,cmap=plt.cm.Reds, annot=True);\n",
    "\n",
    "plt.title('Heatmap for correlation between columns of training data')"
   ]
  },
  {
   "cell_type": "markdown",
   "id": "79bd66f2",
   "metadata": {
    "papermill": {
     "duration": 0.017023,
     "end_time": "2023-01-03T15:11:05.443677",
     "exception": false,
     "start_time": "2023-01-03T15:11:05.426654",
     "status": "completed"
    },
    "tags": []
   },
   "source": [
    "#checking the heatmap between the training data"
   ]
  },
  {
   "cell_type": "code",
   "execution_count": 18,
   "id": "8759c20b",
   "metadata": {
    "execution": {
     "iopub.execute_input": "2023-01-03T15:11:05.481407Z",
     "iopub.status.busy": "2023-01-03T15:11:05.479914Z",
     "iopub.status.idle": "2023-01-03T15:11:05.487070Z",
     "shell.execute_reply": "2023-01-03T15:11:05.485387Z"
    },
    "papermill": {
     "duration": 0.029707,
     "end_time": "2023-01-03T15:11:05.490290",
     "exception": false,
     "start_time": "2023-01-03T15:11:05.460583",
     "status": "completed"
    },
    "tags": []
   },
   "outputs": [],
   "source": [
    "import re"
   ]
  },
  {
   "cell_type": "code",
   "execution_count": 19,
   "id": "4ace563a",
   "metadata": {
    "execution": {
     "iopub.execute_input": "2023-01-03T15:11:05.527012Z",
     "iopub.status.busy": "2023-01-03T15:11:05.526554Z",
     "iopub.status.idle": "2023-01-03T15:11:05.531625Z",
     "shell.execute_reply": "2023-01-03T15:11:05.530299Z"
    },
    "papermill": {
     "duration": 0.026489,
     "end_time": "2023-01-03T15:11:05.534185",
     "exception": false,
     "start_time": "2023-01-03T15:11:05.507696",
     "status": "completed"
    },
    "tags": []
   },
   "outputs": [],
   "source": [
    "search =\"A\""
   ]
  },
  {
   "cell_type": "markdown",
   "id": "4328d41b",
   "metadata": {
    "papermill": {
     "duration": 0.016908,
     "end_time": "2023-01-03T15:11:05.567483",
     "exception": false,
     "start_time": "2023-01-03T15:11:05.550575",
     "status": "completed"
    },
    "tags": []
   },
   "source": [
    "#To make things easier here details of all amino acids are listed in search_amino."
   ]
  },
  {
   "cell_type": "code",
   "execution_count": 20,
   "id": "1859202e",
   "metadata": {
    "execution": {
     "iopub.execute_input": "2023-01-03T15:11:05.604095Z",
     "iopub.status.busy": "2023-01-03T15:11:05.603594Z",
     "iopub.status.idle": "2023-01-03T15:11:12.733155Z",
     "shell.execute_reply": "2023-01-03T15:11:12.731714Z"
    },
    "papermill": {
     "duration": 7.151826,
     "end_time": "2023-01-03T15:11:12.736800",
     "exception": false,
     "start_time": "2023-01-03T15:11:05.584974",
     "status": "completed"
    },
    "tags": []
   },
   "outputs": [],
   "source": [
    "search_amino=['A', 'C', 'D', 'E', 'F', 'G', 'H', 'I', 'K', 'L', 'M', 'N', 'P', 'Q', 'R', 'S', 'T', 'V', 'W', 'Y']\n",
    "for amino_acid in search_amino:\n",
    "     traindata[amino_acid]=traindata['protein_sequence'].str.count(amino_acid,re.I)"
   ]
  },
  {
   "cell_type": "code",
   "execution_count": 21,
   "id": "3312a6fe",
   "metadata": {
    "execution": {
     "iopub.execute_input": "2023-01-03T15:11:12.774123Z",
     "iopub.status.busy": "2023-01-03T15:11:12.773564Z",
     "iopub.status.idle": "2023-01-03T15:11:12.831524Z",
     "shell.execute_reply": "2023-01-03T15:11:12.829491Z"
    },
    "papermill": {
     "duration": 0.081307,
     "end_time": "2023-01-03T15:11:12.835382",
     "exception": false,
     "start_time": "2023-01-03T15:11:12.754075",
     "status": "completed"
    },
    "tags": []
   },
   "outputs": [
    {
     "data": {
      "text/html": [
       "<div>\n",
       "<style scoped>\n",
       "    .dataframe tbody tr th:only-of-type {\n",
       "        vertical-align: middle;\n",
       "    }\n",
       "\n",
       "    .dataframe tbody tr th {\n",
       "        vertical-align: top;\n",
       "    }\n",
       "\n",
       "    .dataframe thead th {\n",
       "        text-align: right;\n",
       "    }\n",
       "</style>\n",
       "<table border=\"1\" class=\"dataframe\">\n",
       "  <thead>\n",
       "    <tr style=\"text-align: right;\">\n",
       "      <th></th>\n",
       "      <th>seq_id</th>\n",
       "      <th>pH</th>\n",
       "      <th>tm</th>\n",
       "      <th>A</th>\n",
       "      <th>C</th>\n",
       "      <th>D</th>\n",
       "      <th>E</th>\n",
       "      <th>F</th>\n",
       "      <th>G</th>\n",
       "      <th>H</th>\n",
       "      <th>...</th>\n",
       "      <th>M</th>\n",
       "      <th>N</th>\n",
       "      <th>P</th>\n",
       "      <th>Q</th>\n",
       "      <th>R</th>\n",
       "      <th>S</th>\n",
       "      <th>T</th>\n",
       "      <th>V</th>\n",
       "      <th>W</th>\n",
       "      <th>Y</th>\n",
       "    </tr>\n",
       "  </thead>\n",
       "  <tbody>\n",
       "    <tr>\n",
       "      <th>0</th>\n",
       "      <td>0</td>\n",
       "      <td>7.0</td>\n",
       "      <td>75.7</td>\n",
       "      <td>45</td>\n",
       "      <td>1</td>\n",
       "      <td>13</td>\n",
       "      <td>30</td>\n",
       "      <td>13</td>\n",
       "      <td>38</td>\n",
       "      <td>3</td>\n",
       "      <td>...</td>\n",
       "      <td>8</td>\n",
       "      <td>5</td>\n",
       "      <td>18</td>\n",
       "      <td>6</td>\n",
       "      <td>25</td>\n",
       "      <td>11</td>\n",
       "      <td>14</td>\n",
       "      <td>37</td>\n",
       "      <td>4</td>\n",
       "      <td>3</td>\n",
       "    </tr>\n",
       "    <tr>\n",
       "      <th>1</th>\n",
       "      <td>1</td>\n",
       "      <td>7.0</td>\n",
       "      <td>50.5</td>\n",
       "      <td>28</td>\n",
       "      <td>0</td>\n",
       "      <td>10</td>\n",
       "      <td>52</td>\n",
       "      <td>6</td>\n",
       "      <td>18</td>\n",
       "      <td>4</td>\n",
       "      <td>...</td>\n",
       "      <td>2</td>\n",
       "      <td>6</td>\n",
       "      <td>8</td>\n",
       "      <td>22</td>\n",
       "      <td>30</td>\n",
       "      <td>14</td>\n",
       "      <td>12</td>\n",
       "      <td>13</td>\n",
       "      <td>3</td>\n",
       "      <td>3</td>\n",
       "    </tr>\n",
       "    <tr>\n",
       "      <th>2</th>\n",
       "      <td>2</td>\n",
       "      <td>7.0</td>\n",
       "      <td>40.5</td>\n",
       "      <td>50</td>\n",
       "      <td>9</td>\n",
       "      <td>27</td>\n",
       "      <td>32</td>\n",
       "      <td>21</td>\n",
       "      <td>65</td>\n",
       "      <td>11</td>\n",
       "      <td>...</td>\n",
       "      <td>6</td>\n",
       "      <td>15</td>\n",
       "      <td>20</td>\n",
       "      <td>25</td>\n",
       "      <td>31</td>\n",
       "      <td>33</td>\n",
       "      <td>30</td>\n",
       "      <td>30</td>\n",
       "      <td>3</td>\n",
       "      <td>16</td>\n",
       "    </tr>\n",
       "    <tr>\n",
       "      <th>3</th>\n",
       "      <td>3</td>\n",
       "      <td>7.0</td>\n",
       "      <td>47.2</td>\n",
       "      <td>20</td>\n",
       "      <td>5</td>\n",
       "      <td>19</td>\n",
       "      <td>29</td>\n",
       "      <td>12</td>\n",
       "      <td>16</td>\n",
       "      <td>7</td>\n",
       "      <td>...</td>\n",
       "      <td>2</td>\n",
       "      <td>9</td>\n",
       "      <td>16</td>\n",
       "      <td>9</td>\n",
       "      <td>10</td>\n",
       "      <td>16</td>\n",
       "      <td>19</td>\n",
       "      <td>14</td>\n",
       "      <td>3</td>\n",
       "      <td>4</td>\n",
       "    </tr>\n",
       "    <tr>\n",
       "      <th>4</th>\n",
       "      <td>4</td>\n",
       "      <td>7.0</td>\n",
       "      <td>49.5</td>\n",
       "      <td>86</td>\n",
       "      <td>14</td>\n",
       "      <td>78</td>\n",
       "      <td>78</td>\n",
       "      <td>32</td>\n",
       "      <td>84</td>\n",
       "      <td>40</td>\n",
       "      <td>...</td>\n",
       "      <td>31</td>\n",
       "      <td>65</td>\n",
       "      <td>128</td>\n",
       "      <td>54</td>\n",
       "      <td>63</td>\n",
       "      <td>148</td>\n",
       "      <td>120</td>\n",
       "      <td>124</td>\n",
       "      <td>16</td>\n",
       "      <td>47</td>\n",
       "    </tr>\n",
       "    <tr>\n",
       "      <th>...</th>\n",
       "      <td>...</td>\n",
       "      <td>...</td>\n",
       "      <td>...</td>\n",
       "      <td>...</td>\n",
       "      <td>...</td>\n",
       "      <td>...</td>\n",
       "      <td>...</td>\n",
       "      <td>...</td>\n",
       "      <td>...</td>\n",
       "      <td>...</td>\n",
       "      <td>...</td>\n",
       "      <td>...</td>\n",
       "      <td>...</td>\n",
       "      <td>...</td>\n",
       "      <td>...</td>\n",
       "      <td>...</td>\n",
       "      <td>...</td>\n",
       "      <td>...</td>\n",
       "      <td>...</td>\n",
       "      <td>...</td>\n",
       "      <td>...</td>\n",
       "    </tr>\n",
       "    <tr>\n",
       "      <th>31385</th>\n",
       "      <td>31385</td>\n",
       "      <td>7.0</td>\n",
       "      <td>51.8</td>\n",
       "      <td>33</td>\n",
       "      <td>12</td>\n",
       "      <td>38</td>\n",
       "      <td>31</td>\n",
       "      <td>18</td>\n",
       "      <td>51</td>\n",
       "      <td>15</td>\n",
       "      <td>...</td>\n",
       "      <td>13</td>\n",
       "      <td>24</td>\n",
       "      <td>25</td>\n",
       "      <td>24</td>\n",
       "      <td>42</td>\n",
       "      <td>33</td>\n",
       "      <td>18</td>\n",
       "      <td>42</td>\n",
       "      <td>13</td>\n",
       "      <td>18</td>\n",
       "    </tr>\n",
       "    <tr>\n",
       "      <th>31386</th>\n",
       "      <td>31386</td>\n",
       "      <td>7.0</td>\n",
       "      <td>37.2</td>\n",
       "      <td>37</td>\n",
       "      <td>5</td>\n",
       "      <td>21</td>\n",
       "      <td>29</td>\n",
       "      <td>22</td>\n",
       "      <td>27</td>\n",
       "      <td>22</td>\n",
       "      <td>...</td>\n",
       "      <td>14</td>\n",
       "      <td>19</td>\n",
       "      <td>19</td>\n",
       "      <td>16</td>\n",
       "      <td>25</td>\n",
       "      <td>37</td>\n",
       "      <td>26</td>\n",
       "      <td>34</td>\n",
       "      <td>5</td>\n",
       "      <td>14</td>\n",
       "    </tr>\n",
       "    <tr>\n",
       "      <th>31387</th>\n",
       "      <td>31387</td>\n",
       "      <td>7.0</td>\n",
       "      <td>64.6</td>\n",
       "      <td>13</td>\n",
       "      <td>1</td>\n",
       "      <td>7</td>\n",
       "      <td>7</td>\n",
       "      <td>7</td>\n",
       "      <td>11</td>\n",
       "      <td>2</td>\n",
       "      <td>...</td>\n",
       "      <td>7</td>\n",
       "      <td>5</td>\n",
       "      <td>6</td>\n",
       "      <td>8</td>\n",
       "      <td>3</td>\n",
       "      <td>10</td>\n",
       "      <td>6</td>\n",
       "      <td>7</td>\n",
       "      <td>4</td>\n",
       "      <td>4</td>\n",
       "    </tr>\n",
       "    <tr>\n",
       "      <th>31388</th>\n",
       "      <td>31388</td>\n",
       "      <td>7.0</td>\n",
       "      <td>50.7</td>\n",
       "      <td>47</td>\n",
       "      <td>5</td>\n",
       "      <td>34</td>\n",
       "      <td>36</td>\n",
       "      <td>23</td>\n",
       "      <td>52</td>\n",
       "      <td>11</td>\n",
       "      <td>...</td>\n",
       "      <td>26</td>\n",
       "      <td>25</td>\n",
       "      <td>31</td>\n",
       "      <td>12</td>\n",
       "      <td>25</td>\n",
       "      <td>51</td>\n",
       "      <td>32</td>\n",
       "      <td>48</td>\n",
       "      <td>3</td>\n",
       "      <td>18</td>\n",
       "    </tr>\n",
       "    <tr>\n",
       "      <th>31389</th>\n",
       "      <td>31389</td>\n",
       "      <td>7.0</td>\n",
       "      <td>37.6</td>\n",
       "      <td>34</td>\n",
       "      <td>5</td>\n",
       "      <td>15</td>\n",
       "      <td>32</td>\n",
       "      <td>26</td>\n",
       "      <td>24</td>\n",
       "      <td>21</td>\n",
       "      <td>...</td>\n",
       "      <td>7</td>\n",
       "      <td>20</td>\n",
       "      <td>31</td>\n",
       "      <td>18</td>\n",
       "      <td>28</td>\n",
       "      <td>34</td>\n",
       "      <td>29</td>\n",
       "      <td>38</td>\n",
       "      <td>18</td>\n",
       "      <td>29</td>\n",
       "    </tr>\n",
       "  </tbody>\n",
       "</table>\n",
       "<p>31390 rows × 23 columns</p>\n",
       "</div>"
      ],
      "text/plain": [
       "       seq_id   pH    tm   A   C   D   E   F   G   H  ...   M   N    P   Q  \\\n",
       "0           0  7.0  75.7  45   1  13  30  13  38   3  ...   8   5   18   6   \n",
       "1           1  7.0  50.5  28   0  10  52   6  18   4  ...   2   6    8  22   \n",
       "2           2  7.0  40.5  50   9  27  32  21  65  11  ...   6  15   20  25   \n",
       "3           3  7.0  47.2  20   5  19  29  12  16   7  ...   2   9   16   9   \n",
       "4           4  7.0  49.5  86  14  78  78  32  84  40  ...  31  65  128  54   \n",
       "...       ...  ...   ...  ..  ..  ..  ..  ..  ..  ..  ...  ..  ..  ...  ..   \n",
       "31385   31385  7.0  51.8  33  12  38  31  18  51  15  ...  13  24   25  24   \n",
       "31386   31386  7.0  37.2  37   5  21  29  22  27  22  ...  14  19   19  16   \n",
       "31387   31387  7.0  64.6  13   1   7   7   7  11   2  ...   7   5    6   8   \n",
       "31388   31388  7.0  50.7  47   5  34  36  23  52  11  ...  26  25   31  12   \n",
       "31389   31389  7.0  37.6  34   5  15  32  26  24  21  ...   7  20   31  18   \n",
       "\n",
       "        R    S    T    V   W   Y  \n",
       "0      25   11   14   37   4   3  \n",
       "1      30   14   12   13   3   3  \n",
       "2      31   33   30   30   3  16  \n",
       "3      10   16   19   14   3   4  \n",
       "4      63  148  120  124  16  47  \n",
       "...    ..  ...  ...  ...  ..  ..  \n",
       "31385  42   33   18   42  13  18  \n",
       "31386  25   37   26   34   5  14  \n",
       "31387   3   10    6    7   4   4  \n",
       "31388  25   51   32   48   3  18  \n",
       "31389  28   34   29   38  18  29  \n",
       "\n",
       "[31390 rows x 23 columns]"
      ]
     },
     "execution_count": 21,
     "metadata": {},
     "output_type": "execute_result"
    }
   ],
   "source": [
    "traindata.drop(['protein_sequence'],axis=1,inplace=True)\n",
    "traindata"
   ]
  },
  {
   "cell_type": "code",
   "execution_count": 22,
   "id": "a7fc42aa",
   "metadata": {
    "execution": {
     "iopub.execute_input": "2023-01-03T15:11:12.876711Z",
     "iopub.status.busy": "2023-01-03T15:11:12.876182Z",
     "iopub.status.idle": "2023-01-03T15:11:12.882525Z",
     "shell.execute_reply": "2023-01-03T15:11:12.881025Z"
    },
    "papermill": {
     "duration": 0.031379,
     "end_time": "2023-01-03T15:11:12.885691",
     "exception": false,
     "start_time": "2023-01-03T15:11:12.854312",
     "status": "completed"
    },
    "tags": []
   },
   "outputs": [],
   "source": [
    "# from sklearn.impute import SimpleImputer\n",
    "# my_imputer_data = SimpleImputer()\n",
    "# data_with_imputed_values_data = my_imputer_data.fit_transform(traindata)"
   ]
  },
  {
   "cell_type": "code",
   "execution_count": 23,
   "id": "90232d1d",
   "metadata": {
    "execution": {
     "iopub.execute_input": "2023-01-03T15:11:12.928016Z",
     "iopub.status.busy": "2023-01-03T15:11:12.927432Z",
     "iopub.status.idle": "2023-01-03T15:11:12.960237Z",
     "shell.execute_reply": "2023-01-03T15:11:12.958554Z"
    },
    "papermill": {
     "duration": 0.059047,
     "end_time": "2023-01-03T15:11:12.963669",
     "exception": false,
     "start_time": "2023-01-03T15:11:12.904622",
     "status": "completed"
    },
    "tags": []
   },
   "outputs": [
    {
     "data": {
      "text/html": [
       "<div>\n",
       "<style scoped>\n",
       "    .dataframe tbody tr th:only-of-type {\n",
       "        vertical-align: middle;\n",
       "    }\n",
       "\n",
       "    .dataframe tbody tr th {\n",
       "        vertical-align: top;\n",
       "    }\n",
       "\n",
       "    .dataframe thead th {\n",
       "        text-align: right;\n",
       "    }\n",
       "</style>\n",
       "<table border=\"1\" class=\"dataframe\">\n",
       "  <thead>\n",
       "    <tr style=\"text-align: right;\">\n",
       "      <th></th>\n",
       "      <th>seq_id</th>\n",
       "      <th>pH</th>\n",
       "    </tr>\n",
       "  </thead>\n",
       "  <tbody>\n",
       "    <tr>\n",
       "      <th>count</th>\n",
       "      <td>2413.000000</td>\n",
       "      <td>2413.0</td>\n",
       "    </tr>\n",
       "    <tr>\n",
       "      <th>mean</th>\n",
       "      <td>32596.000000</td>\n",
       "      <td>8.0</td>\n",
       "    </tr>\n",
       "    <tr>\n",
       "      <th>std</th>\n",
       "      <td>696.717422</td>\n",
       "      <td>0.0</td>\n",
       "    </tr>\n",
       "    <tr>\n",
       "      <th>min</th>\n",
       "      <td>31390.000000</td>\n",
       "      <td>8.0</td>\n",
       "    </tr>\n",
       "    <tr>\n",
       "      <th>25%</th>\n",
       "      <td>31993.000000</td>\n",
       "      <td>8.0</td>\n",
       "    </tr>\n",
       "    <tr>\n",
       "      <th>50%</th>\n",
       "      <td>32596.000000</td>\n",
       "      <td>8.0</td>\n",
       "    </tr>\n",
       "    <tr>\n",
       "      <th>75%</th>\n",
       "      <td>33199.000000</td>\n",
       "      <td>8.0</td>\n",
       "    </tr>\n",
       "    <tr>\n",
       "      <th>max</th>\n",
       "      <td>33802.000000</td>\n",
       "      <td>8.0</td>\n",
       "    </tr>\n",
       "  </tbody>\n",
       "</table>\n",
       "</div>"
      ],
      "text/plain": [
       "             seq_id      pH\n",
       "count   2413.000000  2413.0\n",
       "mean   32596.000000     8.0\n",
       "std      696.717422     0.0\n",
       "min    31390.000000     8.0\n",
       "25%    31993.000000     8.0\n",
       "50%    32596.000000     8.0\n",
       "75%    33199.000000     8.0\n",
       "max    33802.000000     8.0"
      ]
     },
     "execution_count": 23,
     "metadata": {},
     "output_type": "execute_result"
    }
   ],
   "source": [
    "testdata.describe()"
   ]
  },
  {
   "cell_type": "code",
   "execution_count": 24,
   "id": "5527f556",
   "metadata": {
    "execution": {
     "iopub.execute_input": "2023-01-03T15:11:13.004051Z",
     "iopub.status.busy": "2023-01-03T15:11:13.003156Z",
     "iopub.status.idle": "2023-01-03T15:11:13.327077Z",
     "shell.execute_reply": "2023-01-03T15:11:13.325787Z"
    },
    "papermill": {
     "duration": 0.348697,
     "end_time": "2023-01-03T15:11:13.330236",
     "exception": false,
     "start_time": "2023-01-03T15:11:12.981539",
     "status": "completed"
    },
    "tags": []
   },
   "outputs": [],
   "source": [
    "search_amino=['A', 'C', 'D', 'E', 'F', 'G', 'H', 'I', 'K', 'L', 'M', 'N', 'P', 'Q', 'R', 'S', 'T', 'V', 'W', 'Y']\n",
    "for amino in search_amino:\n",
    "    testdata[amino]=testdata['protein_sequence'].str.count(amino,re.I)"
   ]
  },
  {
   "cell_type": "code",
   "execution_count": 25,
   "id": "db5151ca",
   "metadata": {
    "execution": {
     "iopub.execute_input": "2023-01-03T15:11:13.367333Z",
     "iopub.status.busy": "2023-01-03T15:11:13.366809Z",
     "iopub.status.idle": "2023-01-03T15:11:13.392462Z",
     "shell.execute_reply": "2023-01-03T15:11:13.391322Z"
    },
    "papermill": {
     "duration": 0.04765,
     "end_time": "2023-01-03T15:11:13.395139",
     "exception": false,
     "start_time": "2023-01-03T15:11:13.347489",
     "status": "completed"
    },
    "tags": []
   },
   "outputs": [
    {
     "data": {
      "text/html": [
       "<div>\n",
       "<style scoped>\n",
       "    .dataframe tbody tr th:only-of-type {\n",
       "        vertical-align: middle;\n",
       "    }\n",
       "\n",
       "    .dataframe tbody tr th {\n",
       "        vertical-align: top;\n",
       "    }\n",
       "\n",
       "    .dataframe thead th {\n",
       "        text-align: right;\n",
       "    }\n",
       "</style>\n",
       "<table border=\"1\" class=\"dataframe\">\n",
       "  <thead>\n",
       "    <tr style=\"text-align: right;\">\n",
       "      <th></th>\n",
       "      <th>seq_id</th>\n",
       "      <th>pH</th>\n",
       "      <th>A</th>\n",
       "      <th>C</th>\n",
       "      <th>D</th>\n",
       "      <th>E</th>\n",
       "      <th>F</th>\n",
       "      <th>G</th>\n",
       "      <th>H</th>\n",
       "      <th>I</th>\n",
       "      <th>...</th>\n",
       "      <th>M</th>\n",
       "      <th>N</th>\n",
       "      <th>P</th>\n",
       "      <th>Q</th>\n",
       "      <th>R</th>\n",
       "      <th>S</th>\n",
       "      <th>T</th>\n",
       "      <th>V</th>\n",
       "      <th>W</th>\n",
       "      <th>Y</th>\n",
       "    </tr>\n",
       "  </thead>\n",
       "  <tbody>\n",
       "    <tr>\n",
       "      <th>0</th>\n",
       "      <td>31390</td>\n",
       "      <td>8</td>\n",
       "      <td>22</td>\n",
       "      <td>4</td>\n",
       "      <td>15</td>\n",
       "      <td>8</td>\n",
       "      <td>10</td>\n",
       "      <td>19</td>\n",
       "      <td>0</td>\n",
       "      <td>6</td>\n",
       "      <td>...</td>\n",
       "      <td>0</td>\n",
       "      <td>19</td>\n",
       "      <td>17</td>\n",
       "      <td>13</td>\n",
       "      <td>3</td>\n",
       "      <td>18</td>\n",
       "      <td>8</td>\n",
       "      <td>13</td>\n",
       "      <td>6</td>\n",
       "      <td>6</td>\n",
       "    </tr>\n",
       "    <tr>\n",
       "      <th>1</th>\n",
       "      <td>31391</td>\n",
       "      <td>8</td>\n",
       "      <td>22</td>\n",
       "      <td>4</td>\n",
       "      <td>15</td>\n",
       "      <td>7</td>\n",
       "      <td>10</td>\n",
       "      <td>19</td>\n",
       "      <td>0</td>\n",
       "      <td>6</td>\n",
       "      <td>...</td>\n",
       "      <td>0</td>\n",
       "      <td>19</td>\n",
       "      <td>17</td>\n",
       "      <td>13</td>\n",
       "      <td>3</td>\n",
       "      <td>18</td>\n",
       "      <td>8</td>\n",
       "      <td>13</td>\n",
       "      <td>6</td>\n",
       "      <td>6</td>\n",
       "    </tr>\n",
       "    <tr>\n",
       "      <th>2</th>\n",
       "      <td>31392</td>\n",
       "      <td>8</td>\n",
       "      <td>22</td>\n",
       "      <td>4</td>\n",
       "      <td>15</td>\n",
       "      <td>7</td>\n",
       "      <td>10</td>\n",
       "      <td>19</td>\n",
       "      <td>0</td>\n",
       "      <td>6</td>\n",
       "      <td>...</td>\n",
       "      <td>0</td>\n",
       "      <td>19</td>\n",
       "      <td>17</td>\n",
       "      <td>13</td>\n",
       "      <td>3</td>\n",
       "      <td>18</td>\n",
       "      <td>8</td>\n",
       "      <td>13</td>\n",
       "      <td>6</td>\n",
       "      <td>6</td>\n",
       "    </tr>\n",
       "    <tr>\n",
       "      <th>3</th>\n",
       "      <td>31393</td>\n",
       "      <td>8</td>\n",
       "      <td>22</td>\n",
       "      <td>5</td>\n",
       "      <td>15</td>\n",
       "      <td>7</td>\n",
       "      <td>10</td>\n",
       "      <td>19</td>\n",
       "      <td>0</td>\n",
       "      <td>6</td>\n",
       "      <td>...</td>\n",
       "      <td>0</td>\n",
       "      <td>19</td>\n",
       "      <td>17</td>\n",
       "      <td>13</td>\n",
       "      <td>3</td>\n",
       "      <td>18</td>\n",
       "      <td>8</td>\n",
       "      <td>13</td>\n",
       "      <td>6</td>\n",
       "      <td>6</td>\n",
       "    </tr>\n",
       "    <tr>\n",
       "      <th>4</th>\n",
       "      <td>31394</td>\n",
       "      <td>8</td>\n",
       "      <td>22</td>\n",
       "      <td>4</td>\n",
       "      <td>15</td>\n",
       "      <td>7</td>\n",
       "      <td>11</td>\n",
       "      <td>19</td>\n",
       "      <td>0</td>\n",
       "      <td>6</td>\n",
       "      <td>...</td>\n",
       "      <td>0</td>\n",
       "      <td>19</td>\n",
       "      <td>17</td>\n",
       "      <td>13</td>\n",
       "      <td>3</td>\n",
       "      <td>18</td>\n",
       "      <td>8</td>\n",
       "      <td>13</td>\n",
       "      <td>6</td>\n",
       "      <td>6</td>\n",
       "    </tr>\n",
       "  </tbody>\n",
       "</table>\n",
       "<p>5 rows × 22 columns</p>\n",
       "</div>"
      ],
      "text/plain": [
       "   seq_id  pH   A  C   D  E   F   G  H  I  ...  M   N   P   Q  R   S  T   V  \\\n",
       "0   31390   8  22  4  15  8  10  19  0  6  ...  0  19  17  13  3  18  8  13   \n",
       "1   31391   8  22  4  15  7  10  19  0  6  ...  0  19  17  13  3  18  8  13   \n",
       "2   31392   8  22  4  15  7  10  19  0  6  ...  0  19  17  13  3  18  8  13   \n",
       "3   31393   8  22  5  15  7  10  19  0  6  ...  0  19  17  13  3  18  8  13   \n",
       "4   31394   8  22  4  15  7  11  19  0  6  ...  0  19  17  13  3  18  8  13   \n",
       "\n",
       "   W  Y  \n",
       "0  6  6  \n",
       "1  6  6  \n",
       "2  6  6  \n",
       "3  6  6  \n",
       "4  6  6  \n",
       "\n",
       "[5 rows x 22 columns]"
      ]
     },
     "execution_count": 25,
     "metadata": {},
     "output_type": "execute_result"
    }
   ],
   "source": [
    "testdata.drop(['data_source','protein_sequence'],axis=1,inplace=True)\n",
    "testdata.head()"
   ]
  },
  {
   "cell_type": "markdown",
   "id": "9753d68d",
   "metadata": {
    "papermill": {
     "duration": 0.0181,
     "end_time": "2023-01-03T15:11:13.430785",
     "exception": false,
     "start_time": "2023-01-03T15:11:13.412685",
     "status": "completed"
    },
    "tags": []
   },
   "source": [
    "#Data Visualization of training data"
   ]
  },
  {
   "cell_type": "code",
   "execution_count": 26,
   "id": "f0a549fc",
   "metadata": {
    "execution": {
     "iopub.execute_input": "2023-01-03T15:11:13.468718Z",
     "iopub.status.busy": "2023-01-03T15:11:13.468292Z",
     "iopub.status.idle": "2023-01-03T15:11:14.616689Z",
     "shell.execute_reply": "2023-01-03T15:11:14.615185Z"
    },
    "papermill": {
     "duration": 1.171138,
     "end_time": "2023-01-03T15:11:14.620232",
     "exception": false,
     "start_time": "2023-01-03T15:11:13.449094",
     "status": "completed"
    },
    "tags": []
   },
   "outputs": [
    {
     "data": {
      "text/plain": [
       "<seaborn.axisgrid.JointGrid at 0x7f2efe55c990>"
      ]
     },
     "execution_count": 26,
     "metadata": {},
     "output_type": "execute_result"
    },
    {
     "data": {
      "image/png": "[encoded data removed]",
      "text/plain": [
       "<Figure size 432x432 with 3 Axes>"
      ]
     },
     "metadata": {
      "needs_background": "light"
     },
     "output_type": "display_data"
    }
   ],
   "source": [
    "sns.jointplot(data=traindata, x=\"pH\", y=\"tm\")"
   ]
  },
  {
   "cell_type": "code",
   "execution_count": 27,
   "id": "24a00145",
   "metadata": {
    "execution": {
     "iopub.execute_input": "2023-01-03T15:11:14.662357Z",
     "iopub.status.busy": "2023-01-03T15:11:14.660741Z",
     "iopub.status.idle": "2023-01-03T15:11:14.675575Z",
     "shell.execute_reply": "2023-01-03T15:11:14.674305Z"
    },
    "papermill": {
     "duration": 0.038572,
     "end_time": "2023-01-03T15:11:14.678610",
     "exception": false,
     "start_time": "2023-01-03T15:11:14.640038",
     "status": "completed"
    },
    "tags": []
   },
   "outputs": [
    {
     "data": {
      "text/plain": [
       "7.000000     26462\n",
       "7.500000       576\n",
       "8.000000       502\n",
       "3.000000       288\n",
       "6.892339       286\n",
       "             ...  \n",
       "3.140000         1\n",
       "2.530000         1\n",
       "2.810000         1\n",
       "39.000000        1\n",
       "10.300000        1\n",
       "Name: pH, Length: 116, dtype: int64"
      ]
     },
     "execution_count": 27,
     "metadata": {},
     "output_type": "execute_result"
    }
   ],
   "source": [
    "traindata['pH'].value_counts()"
   ]
  },
  {
   "cell_type": "code",
   "execution_count": 28,
   "id": "2d816cfe",
   "metadata": {
    "execution": {
     "iopub.execute_input": "2023-01-03T15:11:14.724205Z",
     "iopub.status.busy": "2023-01-03T15:11:14.723667Z",
     "iopub.status.idle": "2023-01-03T15:11:14.729799Z",
     "shell.execute_reply": "2023-01-03T15:11:14.728070Z"
    },
    "papermill": {
     "duration": 0.032362,
     "end_time": "2023-01-03T15:11:14.733129",
     "exception": false,
     "start_time": "2023-01-03T15:11:14.700767",
     "status": "completed"
    },
    "tags": []
   },
   "outputs": [],
   "source": [
    "# traindata = traindata.drop(\"data_source\",axis = 1)\n"
   ]
  },
  {
   "cell_type": "code",
   "execution_count": 29,
   "id": "8ee119c7",
   "metadata": {
    "execution": {
     "iopub.execute_input": "2023-01-03T15:11:14.777045Z",
     "iopub.status.busy": "2023-01-03T15:11:14.776549Z",
     "iopub.status.idle": "2023-01-03T15:11:14.791461Z",
     "shell.execute_reply": "2023-01-03T15:11:14.789681Z"
    },
    "papermill": {
     "duration": 0.041126,
     "end_time": "2023-01-03T15:11:14.795509",
     "exception": false,
     "start_time": "2023-01-03T15:11:14.754383",
     "status": "completed"
    },
    "tags": []
   },
   "outputs": [
    {
     "data": {
      "text/plain": [
       "25.0     1472\n",
       "20.0      561\n",
       "50.0      200\n",
       "45.0      178\n",
       "49.7      176\n",
       "         ... \n",
       "98.1        1\n",
       "97.6        1\n",
       "92.7        1\n",
       "1.2         1\n",
       "103.0       1\n",
       "Name: tm, Length: 770, dtype: int64"
      ]
     },
     "execution_count": 29,
     "metadata": {},
     "output_type": "execute_result"
    }
   ],
   "source": [
    "traindata['tm'].value_counts()"
   ]
  },
  {
   "cell_type": "code",
   "execution_count": 30,
   "id": "ebeaca7d",
   "metadata": {
    "execution": {
     "iopub.execute_input": "2023-01-03T15:11:14.836769Z",
     "iopub.status.busy": "2023-01-03T15:11:14.836317Z",
     "iopub.status.idle": "2023-01-03T15:11:14.845864Z",
     "shell.execute_reply": "2023-01-03T15:11:14.844511Z"
    },
    "papermill": {
     "duration": 0.03293,
     "end_time": "2023-01-03T15:11:14.848364",
     "exception": false,
     "start_time": "2023-01-03T15:11:14.815434",
     "status": "completed"
    },
    "tags": []
   },
   "outputs": [],
   "source": [
    "x=traindata.drop('tm',axis = 1)\n",
    "y=traindata['tm']"
   ]
  },
  {
   "cell_type": "code",
   "execution_count": 31,
   "id": "b497faf1",
   "metadata": {
    "execution": {
     "iopub.execute_input": "2023-01-03T15:11:14.890250Z",
     "iopub.status.busy": "2023-01-03T15:11:14.889662Z",
     "iopub.status.idle": "2023-01-03T15:11:14.929362Z",
     "shell.execute_reply": "2023-01-03T15:11:14.928163Z"
    },
    "papermill": {
     "duration": 0.064309,
     "end_time": "2023-01-03T15:11:14.932377",
     "exception": false,
     "start_time": "2023-01-03T15:11:14.868068",
     "status": "completed"
    },
    "tags": []
   },
   "outputs": [
    {
     "data": {
      "text/html": [
       "<div>\n",
       "<style scoped>\n",
       "    .dataframe tbody tr th:only-of-type {\n",
       "        vertical-align: middle;\n",
       "    }\n",
       "\n",
       "    .dataframe tbody tr th {\n",
       "        vertical-align: top;\n",
       "    }\n",
       "\n",
       "    .dataframe thead th {\n",
       "        text-align: right;\n",
       "    }\n",
       "</style>\n",
       "<table border=\"1\" class=\"dataframe\">\n",
       "  <thead>\n",
       "    <tr style=\"text-align: right;\">\n",
       "      <th></th>\n",
       "      <th>seq_id</th>\n",
       "      <th>pH</th>\n",
       "      <th>A</th>\n",
       "      <th>C</th>\n",
       "      <th>D</th>\n",
       "      <th>E</th>\n",
       "      <th>F</th>\n",
       "      <th>G</th>\n",
       "      <th>H</th>\n",
       "      <th>I</th>\n",
       "      <th>...</th>\n",
       "      <th>M</th>\n",
       "      <th>N</th>\n",
       "      <th>P</th>\n",
       "      <th>Q</th>\n",
       "      <th>R</th>\n",
       "      <th>S</th>\n",
       "      <th>T</th>\n",
       "      <th>V</th>\n",
       "      <th>W</th>\n",
       "      <th>Y</th>\n",
       "    </tr>\n",
       "  </thead>\n",
       "  <tbody>\n",
       "    <tr>\n",
       "      <th>0</th>\n",
       "      <td>0</td>\n",
       "      <td>7.0</td>\n",
       "      <td>45</td>\n",
       "      <td>1</td>\n",
       "      <td>13</td>\n",
       "      <td>30</td>\n",
       "      <td>13</td>\n",
       "      <td>38</td>\n",
       "      <td>3</td>\n",
       "      <td>14</td>\n",
       "      <td>...</td>\n",
       "      <td>8</td>\n",
       "      <td>5</td>\n",
       "      <td>18</td>\n",
       "      <td>6</td>\n",
       "      <td>25</td>\n",
       "      <td>11</td>\n",
       "      <td>14</td>\n",
       "      <td>37</td>\n",
       "      <td>4</td>\n",
       "      <td>3</td>\n",
       "    </tr>\n",
       "    <tr>\n",
       "      <th>1</th>\n",
       "      <td>1</td>\n",
       "      <td>7.0</td>\n",
       "      <td>28</td>\n",
       "      <td>0</td>\n",
       "      <td>10</td>\n",
       "      <td>52</td>\n",
       "      <td>6</td>\n",
       "      <td>18</td>\n",
       "      <td>4</td>\n",
       "      <td>13</td>\n",
       "      <td>...</td>\n",
       "      <td>2</td>\n",
       "      <td>6</td>\n",
       "      <td>8</td>\n",
       "      <td>22</td>\n",
       "      <td>30</td>\n",
       "      <td>14</td>\n",
       "      <td>12</td>\n",
       "      <td>13</td>\n",
       "      <td>3</td>\n",
       "      <td>3</td>\n",
       "    </tr>\n",
       "    <tr>\n",
       "      <th>2</th>\n",
       "      <td>2</td>\n",
       "      <td>7.0</td>\n",
       "      <td>50</td>\n",
       "      <td>9</td>\n",
       "      <td>27</td>\n",
       "      <td>32</td>\n",
       "      <td>21</td>\n",
       "      <td>65</td>\n",
       "      <td>11</td>\n",
       "      <td>16</td>\n",
       "      <td>...</td>\n",
       "      <td>6</td>\n",
       "      <td>15</td>\n",
       "      <td>20</td>\n",
       "      <td>25</td>\n",
       "      <td>31</td>\n",
       "      <td>33</td>\n",
       "      <td>30</td>\n",
       "      <td>30</td>\n",
       "      <td>3</td>\n",
       "      <td>16</td>\n",
       "    </tr>\n",
       "    <tr>\n",
       "      <th>3</th>\n",
       "      <td>3</td>\n",
       "      <td>7.0</td>\n",
       "      <td>20</td>\n",
       "      <td>5</td>\n",
       "      <td>19</td>\n",
       "      <td>29</td>\n",
       "      <td>12</td>\n",
       "      <td>16</td>\n",
       "      <td>7</td>\n",
       "      <td>10</td>\n",
       "      <td>...</td>\n",
       "      <td>2</td>\n",
       "      <td>9</td>\n",
       "      <td>16</td>\n",
       "      <td>9</td>\n",
       "      <td>10</td>\n",
       "      <td>16</td>\n",
       "      <td>19</td>\n",
       "      <td>14</td>\n",
       "      <td>3</td>\n",
       "      <td>4</td>\n",
       "    </tr>\n",
       "    <tr>\n",
       "      <th>4</th>\n",
       "      <td>4</td>\n",
       "      <td>7.0</td>\n",
       "      <td>86</td>\n",
       "      <td>14</td>\n",
       "      <td>78</td>\n",
       "      <td>78</td>\n",
       "      <td>32</td>\n",
       "      <td>84</td>\n",
       "      <td>40</td>\n",
       "      <td>71</td>\n",
       "      <td>...</td>\n",
       "      <td>31</td>\n",
       "      <td>65</td>\n",
       "      <td>128</td>\n",
       "      <td>54</td>\n",
       "      <td>63</td>\n",
       "      <td>148</td>\n",
       "      <td>120</td>\n",
       "      <td>124</td>\n",
       "      <td>16</td>\n",
       "      <td>47</td>\n",
       "    </tr>\n",
       "    <tr>\n",
       "      <th>...</th>\n",
       "      <td>...</td>\n",
       "      <td>...</td>\n",
       "      <td>...</td>\n",
       "      <td>...</td>\n",
       "      <td>...</td>\n",
       "      <td>...</td>\n",
       "      <td>...</td>\n",
       "      <td>...</td>\n",
       "      <td>...</td>\n",
       "      <td>...</td>\n",
       "      <td>...</td>\n",
       "      <td>...</td>\n",
       "      <td>...</td>\n",
       "      <td>...</td>\n",
       "      <td>...</td>\n",
       "      <td>...</td>\n",
       "      <td>...</td>\n",
       "      <td>...</td>\n",
       "      <td>...</td>\n",
       "      <td>...</td>\n",
       "      <td>...</td>\n",
       "    </tr>\n",
       "    <tr>\n",
       "      <th>31385</th>\n",
       "      <td>31385</td>\n",
       "      <td>7.0</td>\n",
       "      <td>33</td>\n",
       "      <td>12</td>\n",
       "      <td>38</td>\n",
       "      <td>31</td>\n",
       "      <td>18</td>\n",
       "      <td>51</td>\n",
       "      <td>15</td>\n",
       "      <td>21</td>\n",
       "      <td>...</td>\n",
       "      <td>13</td>\n",
       "      <td>24</td>\n",
       "      <td>25</td>\n",
       "      <td>24</td>\n",
       "      <td>42</td>\n",
       "      <td>33</td>\n",
       "      <td>18</td>\n",
       "      <td>42</td>\n",
       "      <td>13</td>\n",
       "      <td>18</td>\n",
       "    </tr>\n",
       "    <tr>\n",
       "      <th>31386</th>\n",
       "      <td>31386</td>\n",
       "      <td>7.0</td>\n",
       "      <td>37</td>\n",
       "      <td>5</td>\n",
       "      <td>21</td>\n",
       "      <td>29</td>\n",
       "      <td>22</td>\n",
       "      <td>27</td>\n",
       "      <td>22</td>\n",
       "      <td>30</td>\n",
       "      <td>...</td>\n",
       "      <td>14</td>\n",
       "      <td>19</td>\n",
       "      <td>19</td>\n",
       "      <td>16</td>\n",
       "      <td>25</td>\n",
       "      <td>37</td>\n",
       "      <td>26</td>\n",
       "      <td>34</td>\n",
       "      <td>5</td>\n",
       "      <td>14</td>\n",
       "    </tr>\n",
       "    <tr>\n",
       "      <th>31387</th>\n",
       "      <td>31387</td>\n",
       "      <td>7.0</td>\n",
       "      <td>13</td>\n",
       "      <td>1</td>\n",
       "      <td>7</td>\n",
       "      <td>7</td>\n",
       "      <td>7</td>\n",
       "      <td>11</td>\n",
       "      <td>2</td>\n",
       "      <td>6</td>\n",
       "      <td>...</td>\n",
       "      <td>7</td>\n",
       "      <td>5</td>\n",
       "      <td>6</td>\n",
       "      <td>8</td>\n",
       "      <td>3</td>\n",
       "      <td>10</td>\n",
       "      <td>6</td>\n",
       "      <td>7</td>\n",
       "      <td>4</td>\n",
       "      <td>4</td>\n",
       "    </tr>\n",
       "    <tr>\n",
       "      <th>31388</th>\n",
       "      <td>31388</td>\n",
       "      <td>7.0</td>\n",
       "      <td>47</td>\n",
       "      <td>5</td>\n",
       "      <td>34</td>\n",
       "      <td>36</td>\n",
       "      <td>23</td>\n",
       "      <td>52</td>\n",
       "      <td>11</td>\n",
       "      <td>34</td>\n",
       "      <td>...</td>\n",
       "      <td>26</td>\n",
       "      <td>25</td>\n",
       "      <td>31</td>\n",
       "      <td>12</td>\n",
       "      <td>25</td>\n",
       "      <td>51</td>\n",
       "      <td>32</td>\n",
       "      <td>48</td>\n",
       "      <td>3</td>\n",
       "      <td>18</td>\n",
       "    </tr>\n",
       "    <tr>\n",
       "      <th>31389</th>\n",
       "      <td>31389</td>\n",
       "      <td>7.0</td>\n",
       "      <td>34</td>\n",
       "      <td>5</td>\n",
       "      <td>15</td>\n",
       "      <td>32</td>\n",
       "      <td>26</td>\n",
       "      <td>24</td>\n",
       "      <td>21</td>\n",
       "      <td>31</td>\n",
       "      <td>...</td>\n",
       "      <td>7</td>\n",
       "      <td>20</td>\n",
       "      <td>31</td>\n",
       "      <td>18</td>\n",
       "      <td>28</td>\n",
       "      <td>34</td>\n",
       "      <td>29</td>\n",
       "      <td>38</td>\n",
       "      <td>18</td>\n",
       "      <td>29</td>\n",
       "    </tr>\n",
       "  </tbody>\n",
       "</table>\n",
       "<p>31390 rows × 22 columns</p>\n",
       "</div>"
      ],
      "text/plain": [
       "       seq_id   pH   A   C   D   E   F   G   H   I  ...   M   N    P   Q   R  \\\n",
       "0           0  7.0  45   1  13  30  13  38   3  14  ...   8   5   18   6  25   \n",
       "1           1  7.0  28   0  10  52   6  18   4  13  ...   2   6    8  22  30   \n",
       "2           2  7.0  50   9  27  32  21  65  11  16  ...   6  15   20  25  31   \n",
       "3           3  7.0  20   5  19  29  12  16   7  10  ...   2   9   16   9  10   \n",
       "4           4  7.0  86  14  78  78  32  84  40  71  ...  31  65  128  54  63   \n",
       "...       ...  ...  ..  ..  ..  ..  ..  ..  ..  ..  ...  ..  ..  ...  ..  ..   \n",
       "31385   31385  7.0  33  12  38  31  18  51  15  21  ...  13  24   25  24  42   \n",
       "31386   31386  7.0  37   5  21  29  22  27  22  30  ...  14  19   19  16  25   \n",
       "31387   31387  7.0  13   1   7   7   7  11   2   6  ...   7   5    6   8   3   \n",
       "31388   31388  7.0  47   5  34  36  23  52  11  34  ...  26  25   31  12  25   \n",
       "31389   31389  7.0  34   5  15  32  26  24  21  31  ...   7  20   31  18  28   \n",
       "\n",
       "         S    T    V   W   Y  \n",
       "0       11   14   37   4   3  \n",
       "1       14   12   13   3   3  \n",
       "2       33   30   30   3  16  \n",
       "3       16   19   14   3   4  \n",
       "4      148  120  124  16  47  \n",
       "...    ...  ...  ...  ..  ..  \n",
       "31385   33   18   42  13  18  \n",
       "31386   37   26   34   5  14  \n",
       "31387   10    6    7   4   4  \n",
       "31388   51   32   48   3  18  \n",
       "31389   34   29   38  18  29  \n",
       "\n",
       "[31390 rows x 22 columns]"
      ]
     },
     "execution_count": 31,
     "metadata": {},
     "output_type": "execute_result"
    }
   ],
   "source": [
    "x"
   ]
  },
  {
   "cell_type": "code",
   "execution_count": 32,
   "id": "100e0652",
   "metadata": {
    "execution": {
     "iopub.execute_input": "2023-01-03T15:11:14.972593Z",
     "iopub.status.busy": "2023-01-03T15:11:14.971840Z",
     "iopub.status.idle": "2023-01-03T15:11:15.199990Z",
     "shell.execute_reply": "2023-01-03T15:11:15.198687Z"
    },
    "papermill": {
     "duration": 0.251977,
     "end_time": "2023-01-03T15:11:15.203505",
     "exception": false,
     "start_time": "2023-01-03T15:11:14.951528",
     "status": "completed"
    },
    "tags": []
   },
   "outputs": [],
   "source": [
    "from sklearn.model_selection import train_test_split"
   ]
  },
  {
   "cell_type": "code",
   "execution_count": 33,
   "id": "d5a50617",
   "metadata": {
    "execution": {
     "iopub.execute_input": "2023-01-03T15:11:15.243397Z",
     "iopub.status.busy": "2023-01-03T15:11:15.242911Z",
     "iopub.status.idle": "2023-01-03T15:11:15.260134Z",
     "shell.execute_reply": "2023-01-03T15:11:15.258978Z"
    },
    "papermill": {
     "duration": 0.040401,
     "end_time": "2023-01-03T15:11:15.263014",
     "exception": false,
     "start_time": "2023-01-03T15:11:15.222613",
     "status": "completed"
    },
    "tags": []
   },
   "outputs": [],
   "source": [
    "x_train,x_valid,y_train,y_valid=train_test_split(x , y,test_size=0.20,random_state=69)"
   ]
  },
  {
   "cell_type": "code",
   "execution_count": 34,
   "id": "1c6b16de",
   "metadata": {
    "execution": {
     "iopub.execute_input": "2023-01-03T15:11:15.303711Z",
     "iopub.status.busy": "2023-01-03T15:11:15.303013Z",
     "iopub.status.idle": "2023-01-03T15:11:15.339345Z",
     "shell.execute_reply": "2023-01-03T15:11:15.337778Z"
    },
    "papermill": {
     "duration": 0.060352,
     "end_time": "2023-01-03T15:11:15.342215",
     "exception": false,
     "start_time": "2023-01-03T15:11:15.281863",
     "status": "completed"
    },
    "tags": []
   },
   "outputs": [
    {
     "data": {
      "text/html": [
       "<div>\n",
       "<style scoped>\n",
       "    .dataframe tbody tr th:only-of-type {\n",
       "        vertical-align: middle;\n",
       "    }\n",
       "\n",
       "    .dataframe tbody tr th {\n",
       "        vertical-align: top;\n",
       "    }\n",
       "\n",
       "    .dataframe thead th {\n",
       "        text-align: right;\n",
       "    }\n",
       "</style>\n",
       "<table border=\"1\" class=\"dataframe\">\n",
       "  <thead>\n",
       "    <tr style=\"text-align: right;\">\n",
       "      <th></th>\n",
       "      <th>seq_id</th>\n",
       "      <th>pH</th>\n",
       "      <th>A</th>\n",
       "      <th>C</th>\n",
       "      <th>D</th>\n",
       "      <th>E</th>\n",
       "      <th>F</th>\n",
       "      <th>G</th>\n",
       "      <th>H</th>\n",
       "      <th>I</th>\n",
       "      <th>...</th>\n",
       "      <th>M</th>\n",
       "      <th>N</th>\n",
       "      <th>P</th>\n",
       "      <th>Q</th>\n",
       "      <th>R</th>\n",
       "      <th>S</th>\n",
       "      <th>T</th>\n",
       "      <th>V</th>\n",
       "      <th>W</th>\n",
       "      <th>Y</th>\n",
       "    </tr>\n",
       "  </thead>\n",
       "  <tbody>\n",
       "    <tr>\n",
       "      <th>29924</th>\n",
       "      <td>29924</td>\n",
       "      <td>7.0</td>\n",
       "      <td>92</td>\n",
       "      <td>0</td>\n",
       "      <td>15</td>\n",
       "      <td>44</td>\n",
       "      <td>9</td>\n",
       "      <td>40</td>\n",
       "      <td>3</td>\n",
       "      <td>2</td>\n",
       "      <td>...</td>\n",
       "      <td>2</td>\n",
       "      <td>5</td>\n",
       "      <td>15</td>\n",
       "      <td>24</td>\n",
       "      <td>41</td>\n",
       "      <td>9</td>\n",
       "      <td>3</td>\n",
       "      <td>22</td>\n",
       "      <td>7</td>\n",
       "      <td>16</td>\n",
       "    </tr>\n",
       "    <tr>\n",
       "      <th>30875</th>\n",
       "      <td>30875</td>\n",
       "      <td>7.0</td>\n",
       "      <td>24</td>\n",
       "      <td>16</td>\n",
       "      <td>29</td>\n",
       "      <td>37</td>\n",
       "      <td>37</td>\n",
       "      <td>27</td>\n",
       "      <td>21</td>\n",
       "      <td>40</td>\n",
       "      <td>...</td>\n",
       "      <td>8</td>\n",
       "      <td>48</td>\n",
       "      <td>21</td>\n",
       "      <td>32</td>\n",
       "      <td>15</td>\n",
       "      <td>64</td>\n",
       "      <td>40</td>\n",
       "      <td>20</td>\n",
       "      <td>4</td>\n",
       "      <td>11</td>\n",
       "    </tr>\n",
       "    <tr>\n",
       "      <th>21600</th>\n",
       "      <td>21600</td>\n",
       "      <td>7.0</td>\n",
       "      <td>31</td>\n",
       "      <td>6</td>\n",
       "      <td>20</td>\n",
       "      <td>23</td>\n",
       "      <td>9</td>\n",
       "      <td>69</td>\n",
       "      <td>3</td>\n",
       "      <td>11</td>\n",
       "      <td>...</td>\n",
       "      <td>8</td>\n",
       "      <td>12</td>\n",
       "      <td>30</td>\n",
       "      <td>22</td>\n",
       "      <td>39</td>\n",
       "      <td>36</td>\n",
       "      <td>15</td>\n",
       "      <td>20</td>\n",
       "      <td>4</td>\n",
       "      <td>3</td>\n",
       "    </tr>\n",
       "    <tr>\n",
       "      <th>15870</th>\n",
       "      <td>15870</td>\n",
       "      <td>6.0</td>\n",
       "      <td>14</td>\n",
       "      <td>3</td>\n",
       "      <td>6</td>\n",
       "      <td>12</td>\n",
       "      <td>2</td>\n",
       "      <td>14</td>\n",
       "      <td>6</td>\n",
       "      <td>7</td>\n",
       "      <td>...</td>\n",
       "      <td>4</td>\n",
       "      <td>7</td>\n",
       "      <td>5</td>\n",
       "      <td>8</td>\n",
       "      <td>10</td>\n",
       "      <td>4</td>\n",
       "      <td>10</td>\n",
       "      <td>9</td>\n",
       "      <td>6</td>\n",
       "      <td>5</td>\n",
       "    </tr>\n",
       "    <tr>\n",
       "      <th>20487</th>\n",
       "      <td>20487</td>\n",
       "      <td>7.0</td>\n",
       "      <td>26</td>\n",
       "      <td>3</td>\n",
       "      <td>12</td>\n",
       "      <td>26</td>\n",
       "      <td>8</td>\n",
       "      <td>29</td>\n",
       "      <td>7</td>\n",
       "      <td>20</td>\n",
       "      <td>...</td>\n",
       "      <td>11</td>\n",
       "      <td>11</td>\n",
       "      <td>13</td>\n",
       "      <td>8</td>\n",
       "      <td>11</td>\n",
       "      <td>15</td>\n",
       "      <td>13</td>\n",
       "      <td>29</td>\n",
       "      <td>1</td>\n",
       "      <td>6</td>\n",
       "    </tr>\n",
       "    <tr>\n",
       "      <th>...</th>\n",
       "      <td>...</td>\n",
       "      <td>...</td>\n",
       "      <td>...</td>\n",
       "      <td>...</td>\n",
       "      <td>...</td>\n",
       "      <td>...</td>\n",
       "      <td>...</td>\n",
       "      <td>...</td>\n",
       "      <td>...</td>\n",
       "      <td>...</td>\n",
       "      <td>...</td>\n",
       "      <td>...</td>\n",
       "      <td>...</td>\n",
       "      <td>...</td>\n",
       "      <td>...</td>\n",
       "      <td>...</td>\n",
       "      <td>...</td>\n",
       "      <td>...</td>\n",
       "      <td>...</td>\n",
       "      <td>...</td>\n",
       "      <td>...</td>\n",
       "    </tr>\n",
       "    <tr>\n",
       "      <th>25015</th>\n",
       "      <td>25015</td>\n",
       "      <td>7.0</td>\n",
       "      <td>55</td>\n",
       "      <td>5</td>\n",
       "      <td>25</td>\n",
       "      <td>32</td>\n",
       "      <td>13</td>\n",
       "      <td>48</td>\n",
       "      <td>9</td>\n",
       "      <td>31</td>\n",
       "      <td>...</td>\n",
       "      <td>14</td>\n",
       "      <td>16</td>\n",
       "      <td>14</td>\n",
       "      <td>9</td>\n",
       "      <td>27</td>\n",
       "      <td>20</td>\n",
       "      <td>19</td>\n",
       "      <td>35</td>\n",
       "      <td>2</td>\n",
       "      <td>9</td>\n",
       "    </tr>\n",
       "    <tr>\n",
       "      <th>9818</th>\n",
       "      <td>9818</td>\n",
       "      <td>7.0</td>\n",
       "      <td>39</td>\n",
       "      <td>0</td>\n",
       "      <td>7</td>\n",
       "      <td>20</td>\n",
       "      <td>6</td>\n",
       "      <td>27</td>\n",
       "      <td>2</td>\n",
       "      <td>6</td>\n",
       "      <td>...</td>\n",
       "      <td>4</td>\n",
       "      <td>6</td>\n",
       "      <td>14</td>\n",
       "      <td>6</td>\n",
       "      <td>21</td>\n",
       "      <td>7</td>\n",
       "      <td>7</td>\n",
       "      <td>26</td>\n",
       "      <td>2</td>\n",
       "      <td>4</td>\n",
       "    </tr>\n",
       "    <tr>\n",
       "      <th>27243</th>\n",
       "      <td>27243</td>\n",
       "      <td>7.0</td>\n",
       "      <td>35</td>\n",
       "      <td>4</td>\n",
       "      <td>15</td>\n",
       "      <td>15</td>\n",
       "      <td>7</td>\n",
       "      <td>34</td>\n",
       "      <td>5</td>\n",
       "      <td>30</td>\n",
       "      <td>...</td>\n",
       "      <td>9</td>\n",
       "      <td>11</td>\n",
       "      <td>6</td>\n",
       "      <td>21</td>\n",
       "      <td>18</td>\n",
       "      <td>21</td>\n",
       "      <td>14</td>\n",
       "      <td>21</td>\n",
       "      <td>1</td>\n",
       "      <td>7</td>\n",
       "    </tr>\n",
       "    <tr>\n",
       "      <th>4041</th>\n",
       "      <td>4041</td>\n",
       "      <td>7.0</td>\n",
       "      <td>116</td>\n",
       "      <td>19</td>\n",
       "      <td>148</td>\n",
       "      <td>168</td>\n",
       "      <td>60</td>\n",
       "      <td>111</td>\n",
       "      <td>48</td>\n",
       "      <td>84</td>\n",
       "      <td>...</td>\n",
       "      <td>40</td>\n",
       "      <td>66</td>\n",
       "      <td>95</td>\n",
       "      <td>86</td>\n",
       "      <td>120</td>\n",
       "      <td>136</td>\n",
       "      <td>81</td>\n",
       "      <td>97</td>\n",
       "      <td>17</td>\n",
       "      <td>74</td>\n",
       "    </tr>\n",
       "    <tr>\n",
       "      <th>23755</th>\n",
       "      <td>23755</td>\n",
       "      <td>7.0</td>\n",
       "      <td>13</td>\n",
       "      <td>1</td>\n",
       "      <td>27</td>\n",
       "      <td>34</td>\n",
       "      <td>6</td>\n",
       "      <td>10</td>\n",
       "      <td>6</td>\n",
       "      <td>8</td>\n",
       "      <td>...</td>\n",
       "      <td>6</td>\n",
       "      <td>24</td>\n",
       "      <td>8</td>\n",
       "      <td>15</td>\n",
       "      <td>19</td>\n",
       "      <td>30</td>\n",
       "      <td>13</td>\n",
       "      <td>8</td>\n",
       "      <td>2</td>\n",
       "      <td>7</td>\n",
       "    </tr>\n",
       "  </tbody>\n",
       "</table>\n",
       "<p>25112 rows × 22 columns</p>\n",
       "</div>"
      ],
      "text/plain": [
       "       seq_id   pH    A   C    D    E   F    G   H   I  ...   M   N   P   Q  \\\n",
       "29924   29924  7.0   92   0   15   44   9   40   3   2  ...   2   5  15  24   \n",
       "30875   30875  7.0   24  16   29   37  37   27  21  40  ...   8  48  21  32   \n",
       "21600   21600  7.0   31   6   20   23   9   69   3  11  ...   8  12  30  22   \n",
       "15870   15870  6.0   14   3    6   12   2   14   6   7  ...   4   7   5   8   \n",
       "20487   20487  7.0   26   3   12   26   8   29   7  20  ...  11  11  13   8   \n",
       "...       ...  ...  ...  ..  ...  ...  ..  ...  ..  ..  ...  ..  ..  ..  ..   \n",
       "25015   25015  7.0   55   5   25   32  13   48   9  31  ...  14  16  14   9   \n",
       "9818     9818  7.0   39   0    7   20   6   27   2   6  ...   4   6  14   6   \n",
       "27243   27243  7.0   35   4   15   15   7   34   5  30  ...   9  11   6  21   \n",
       "4041     4041  7.0  116  19  148  168  60  111  48  84  ...  40  66  95  86   \n",
       "23755   23755  7.0   13   1   27   34   6   10   6   8  ...   6  24   8  15   \n",
       "\n",
       "         R    S   T   V   W   Y  \n",
       "29924   41    9   3  22   7  16  \n",
       "30875   15   64  40  20   4  11  \n",
       "21600   39   36  15  20   4   3  \n",
       "15870   10    4  10   9   6   5  \n",
       "20487   11   15  13  29   1   6  \n",
       "...    ...  ...  ..  ..  ..  ..  \n",
       "25015   27   20  19  35   2   9  \n",
       "9818    21    7   7  26   2   4  \n",
       "27243   18   21  14  21   1   7  \n",
       "4041   120  136  81  97  17  74  \n",
       "23755   19   30  13   8   2   7  \n",
       "\n",
       "[25112 rows x 22 columns]"
      ]
     },
     "execution_count": 34,
     "metadata": {},
     "output_type": "execute_result"
    }
   ],
   "source": [
    "x_train"
   ]
  },
  {
   "cell_type": "code",
   "execution_count": 35,
   "id": "933ec779",
   "metadata": {
    "execution": {
     "iopub.execute_input": "2023-01-03T15:11:15.386391Z",
     "iopub.status.busy": "2023-01-03T15:11:15.385907Z",
     "iopub.status.idle": "2023-01-03T15:11:15.392837Z",
     "shell.execute_reply": "2023-01-03T15:11:15.392010Z"
    },
    "papermill": {
     "duration": 0.032541,
     "end_time": "2023-01-03T15:11:15.395220",
     "exception": false,
     "start_time": "2023-01-03T15:11:15.362679",
     "status": "completed"
    },
    "tags": []
   },
   "outputs": [
    {
     "data": {
      "text/plain": [
       "((25112, 22), (25112,))"
      ]
     },
     "execution_count": 35,
     "metadata": {},
     "output_type": "execute_result"
    }
   ],
   "source": [
    "x_train.shape,y_train.shape"
   ]
  },
  {
   "cell_type": "code",
   "execution_count": 36,
   "id": "2e73f272",
   "metadata": {
    "execution": {
     "iopub.execute_input": "2023-01-03T15:11:15.437687Z",
     "iopub.status.busy": "2023-01-03T15:11:15.437211Z",
     "iopub.status.idle": "2023-01-03T15:11:15.677768Z",
     "shell.execute_reply": "2023-01-03T15:11:15.676345Z"
    },
    "papermill": {
     "duration": 0.265279,
     "end_time": "2023-01-03T15:11:15.681139",
     "exception": false,
     "start_time": "2023-01-03T15:11:15.415860",
     "status": "completed"
    },
    "tags": []
   },
   "outputs": [],
   "source": [
    "from sklearn.ensemble import RandomForestRegressor"
   ]
  },
  {
   "cell_type": "code",
   "execution_count": 37,
   "id": "9071e0ba",
   "metadata": {
    "execution": {
     "iopub.execute_input": "2023-01-03T15:11:15.724760Z",
     "iopub.status.busy": "2023-01-03T15:11:15.724187Z",
     "iopub.status.idle": "2023-01-03T15:11:15.729647Z",
     "shell.execute_reply": "2023-01-03T15:11:15.728472Z"
    },
    "papermill": {
     "duration": 0.030384,
     "end_time": "2023-01-03T15:11:15.732621",
     "exception": false,
     "start_time": "2023-01-03T15:11:15.702237",
     "status": "completed"
    },
    "tags": []
   },
   "outputs": [],
   "source": [
    "from sklearn.model_selection import RandomizedSearchCV\n",
    "from pprint import pprint"
   ]
  },
  {
   "cell_type": "code",
   "execution_count": 38,
   "id": "f17eadec",
   "metadata": {
    "execution": {
     "iopub.execute_input": "2023-01-03T15:11:15.774901Z",
     "iopub.status.busy": "2023-01-03T15:11:15.774487Z",
     "iopub.status.idle": "2023-01-03T15:11:15.780091Z",
     "shell.execute_reply": "2023-01-03T15:11:15.778744Z"
    },
    "papermill": {
     "duration": 0.02979,
     "end_time": "2023-01-03T15:11:15.782857",
     "exception": false,
     "start_time": "2023-01-03T15:11:15.753067",
     "status": "completed"
    },
    "tags": []
   },
   "outputs": [],
   "source": [
    "randomf = RandomForestRegressor()"
   ]
  },
  {
   "cell_type": "code",
   "execution_count": 39,
   "id": "efc840b5",
   "metadata": {
    "execution": {
     "iopub.execute_input": "2023-01-03T15:11:15.825898Z",
     "iopub.status.busy": "2023-01-03T15:11:15.825430Z",
     "iopub.status.idle": "2023-01-03T15:11:15.832748Z",
     "shell.execute_reply": "2023-01-03T15:11:15.831074Z"
    },
    "papermill": {
     "duration": 0.032334,
     "end_time": "2023-01-03T15:11:15.836039",
     "exception": false,
     "start_time": "2023-01-03T15:11:15.803705",
     "status": "completed"
    },
    "tags": []
   },
   "outputs": [
    {
     "name": "stdout",
     "output_type": "stream",
     "text": [
      "{'bootstrap': True,\n",
      " 'ccp_alpha': 0.0,\n",
      " 'criterion': 'squared_error',\n",
      " 'max_depth': None,\n",
      " 'max_features': 'auto',\n",
      " 'max_leaf_nodes': None,\n",
      " 'max_samples': None,\n",
      " 'min_impurity_decrease': 0.0,\n",
      " 'min_samples_leaf': 1,\n",
      " 'min_samples_split': 2,\n",
      " 'min_weight_fraction_leaf': 0.0,\n",
      " 'n_estimators': 100,\n",
      " 'n_jobs': None,\n",
      " 'oob_score': False,\n",
      " 'random_state': None,\n",
      " 'verbose': 0,\n",
      " 'warm_start': False}\n"
     ]
    }
   ],
   "source": [
    "from pprint import pprint\n",
    "\n",
    "pprint(randomf.get_params())"
   ]
  },
  {
   "cell_type": "code",
   "execution_count": 40,
   "id": "45aa401e",
   "metadata": {
    "execution": {
     "iopub.execute_input": "2023-01-03T15:11:15.883220Z",
     "iopub.status.busy": "2023-01-03T15:11:15.881904Z",
     "iopub.status.idle": "2023-01-03T15:11:15.892426Z",
     "shell.execute_reply": "2023-01-03T15:11:15.890978Z"
    },
    "papermill": {
     "duration": 0.038529,
     "end_time": "2023-01-03T15:11:15.895626",
     "exception": false,
     "start_time": "2023-01-03T15:11:15.857097",
     "status": "completed"
    },
    "tags": []
   },
   "outputs": [],
   "source": [
    "from scipy.stats import randint\n",
    "\n",
    "random_grid={'max_depth':list(np.arange(10, 100, step=10)),\n",
    "              'n_estimators':np.arange(10, 500, step=50),\n",
    "              'max_features':randint(1,9),\n",
    "              'min_samples_leaf':randint(1,3),\n",
    "              'min_samples_split':np.arange(2, 10, step=2)\n",
    "         }"
   ]
  },
  {
   "cell_type": "code",
   "execution_count": 41,
   "id": "51e8ebe2",
   "metadata": {
    "execution": {
     "iopub.execute_input": "2023-01-03T15:11:15.943050Z",
     "iopub.status.busy": "2023-01-03T15:11:15.942575Z",
     "iopub.status.idle": "2023-01-03T15:11:15.949107Z",
     "shell.execute_reply": "2023-01-03T15:11:15.948169Z"
    },
    "papermill": {
     "duration": 0.033939,
     "end_time": "2023-01-03T15:11:15.953567",
     "exception": false,
     "start_time": "2023-01-03T15:11:15.919628",
     "status": "completed"
    },
    "tags": []
   },
   "outputs": [
    {
     "name": "stdout",
     "output_type": "stream",
     "text": [
      "{'max_depth': [10, 20, 30, 40, 50, 60, 70, 80, 90],\n",
      " 'max_features': <scipy.stats._distn_infrastructure.rv_frozen object at 0x7f2efb968450>,\n",
      " 'min_samples_leaf': <scipy.stats._distn_infrastructure.rv_frozen object at 0x7f2efec89b90>,\n",
      " 'min_samples_split': array([2, 4, 6, 8]),\n",
      " 'n_estimators': array([ 10,  60, 110, 160, 210, 260, 310, 360, 410, 460])}\n"
     ]
    }
   ],
   "source": [
    "pprint(random_grid)"
   ]
  },
  {
   "cell_type": "code",
   "execution_count": 42,
   "id": "2994fef0",
   "metadata": {
    "execution": {
     "iopub.execute_input": "2023-01-03T15:11:15.996408Z",
     "iopub.status.busy": "2023-01-03T15:11:15.995885Z",
     "iopub.status.idle": "2023-01-03T15:22:59.822593Z",
     "shell.execute_reply": "2023-01-03T15:22:59.821134Z"
    },
    "papermill": {
     "duration": 703.870166,
     "end_time": "2023-01-03T15:22:59.844216",
     "exception": false,
     "start_time": "2023-01-03T15:11:15.974050",
     "status": "completed"
    },
    "tags": []
   },
   "outputs": [
    {
     "name": "stdout",
     "output_type": "stream",
     "text": [
      "Fitting 3 folds for each of 50 candidates, totalling 150 fits\n"
     ]
    },
    {
     "data": {
      "text/plain": [
       "RandomizedSearchCV(cv=3, estimator=RandomForestRegressor(random_state=69),\n",
       "                   n_iter=50, n_jobs=-1,\n",
       "                   param_distributions={'max_depth': [10, 20, 30, 40, 50, 60,\n",
       "                                                      70, 80, 90],\n",
       "                                        'max_features': <scipy.stats._distn_infrastructure.rv_frozen object at 0x7f2efb968450>,\n",
       "                                        'min_samples_leaf': <scipy.stats._distn_infrastructure.rv_frozen object at 0x7f2efec89b90>,\n",
       "                                        'min_samples_split': array([2, 4, 6, 8]),\n",
       "                                        'n_estimators': array([ 10,  60, 110, 160, 210, 260, 310, 360, 410, 460])},\n",
       "                   random_state=42, return_train_score=True,\n",
       "                   scoring='neg_mean_absolute_error', verbose=2)"
      ]
     },
     "execution_count": 42,
     "metadata": {},
     "output_type": "execute_result"
    }
   ],
   "source": [
    "# Use the random grid to search for best hyperparameters\n",
    "#create the base model to tune\n",
    "randomf = RandomForestRegressor(random_state = 69)\n",
    "# Random search of parameters, using 3 fold cross validation, \n",
    "randomf_random = RandomizedSearchCV(estimator=randomf, param_distributions=random_grid,\n",
    "                              n_iter = 50, scoring='neg_mean_absolute_error', \n",
    "                              cv =3, verbose=2, random_state=42, n_jobs=-1,\n",
    "                              return_train_score=True)\n",
    "\n",
    "# Fit the random search model\n",
    "randomf_random.fit(x_train,y_train)"
   ]
  },
  {
   "cell_type": "code",
   "execution_count": 43,
   "id": "eb5f18c8",
   "metadata": {
    "execution": {
     "iopub.execute_input": "2023-01-03T15:22:59.885377Z",
     "iopub.status.busy": "2023-01-03T15:22:59.884907Z",
     "iopub.status.idle": "2023-01-03T15:23:00.410458Z",
     "shell.execute_reply": "2023-01-03T15:23:00.409114Z"
    },
    "papermill": {
     "duration": 0.549584,
     "end_time": "2023-01-03T15:23:00.413335",
     "exception": false,
     "start_time": "2023-01-03T15:22:59.863751",
     "status": "completed"
    },
    "tags": []
   },
   "outputs": [
    {
     "data": {
      "text/plain": [
       "(6278,)"
      ]
     },
     "execution_count": 43,
     "metadata": {},
     "output_type": "execute_result"
    }
   ],
   "source": [
    "y_predict= randomf_random.predict(x_valid)\n",
    "y_predict.shape"
   ]
  },
  {
   "cell_type": "code",
   "execution_count": 44,
   "id": "f50b2f1b",
   "metadata": {
    "execution": {
     "iopub.execute_input": "2023-01-03T15:23:00.457381Z",
     "iopub.status.busy": "2023-01-03T15:23:00.456928Z",
     "iopub.status.idle": "2023-01-03T15:23:00.465265Z",
     "shell.execute_reply": "2023-01-03T15:23:00.463822Z"
    },
    "papermill": {
     "duration": 0.034518,
     "end_time": "2023-01-03T15:23:00.467860",
     "exception": false,
     "start_time": "2023-01-03T15:23:00.433342",
     "status": "completed"
    },
    "tags": []
   },
   "outputs": [
    {
     "data": {
      "text/plain": [
       "(2413, 22)"
      ]
     },
     "execution_count": 44,
     "metadata": {},
     "output_type": "execute_result"
    }
   ],
   "source": [
    "testdata.shape"
   ]
  },
  {
   "cell_type": "code",
   "execution_count": 45,
   "id": "915aa183",
   "metadata": {
    "execution": {
     "iopub.execute_input": "2023-01-03T15:23:00.509112Z",
     "iopub.status.busy": "2023-01-03T15:23:00.508632Z",
     "iopub.status.idle": "2023-01-03T15:23:00.969456Z",
     "shell.execute_reply": "2023-01-03T15:23:00.967990Z"
    },
    "papermill": {
     "duration": 0.48448,
     "end_time": "2023-01-03T15:23:00.972262",
     "exception": false,
     "start_time": "2023-01-03T15:23:00.487782",
     "status": "completed"
    },
    "tags": []
   },
   "outputs": [
    {
     "name": "stderr",
     "output_type": "stream",
     "text": [
      "/opt/conda/lib/python3.7/site-packages/seaborn/distributions.py:2619: FutureWarning: `distplot` is a deprecated function and will be removed in a future version. Please adapt your code to use either `displot` (a figure-level function with similar flexibility) or `histplot` (an axes-level function for histograms).\n",
      "  warnings.warn(msg, FutureWarning)\n",
      "/opt/conda/lib/python3.7/site-packages/seaborn/distributions.py:2619: FutureWarning: `distplot` is a deprecated function and will be removed in a future version. Please adapt your code to use either `displot` (a figure-level function with similar flexibility) or `histplot` (an axes-level function for histograms).\n",
      "  warnings.warn(msg, FutureWarning)\n"
     ]
    },
    {
     "data": {
      "text/plain": [
       "<AxesSubplot:xlabel='tm', ylabel='Density'>"
      ]
     },
     "execution_count": 45,
     "metadata": {},
     "output_type": "execute_result"
    },
    {
     "data": {
      "image/png": "[encoded data removed]",
      "text/plain": [
       "<Figure size 432x288 with 1 Axes>"
      ]
     },
     "metadata": {
      "needs_background": "light"
     },
     "output_type": "display_data"
    }
   ],
   "source": [
    "# Density Plot and Histogram of all arrival delays\n",
    "sns.distplot(y_valid, hist=True, kde=True, \n",
    "             bins=int(180/5), color = 'darkblue', \n",
    "             hist_kws={'edgecolor':'black'},\n",
    "             kde_kws={'linewidth': 4})\n",
    "# Density Plot and Histogram of all arrival delays\n",
    "sns.distplot(y_predict, hist=True, kde=True, \n",
    "             bins=int(180/5), color = 'red', \n",
    "             hist_kws={'edgecolor':'green'},\n",
    "             kde_kws={'linewidth': 4})"
   ]
  },
  {
   "cell_type": "code",
   "execution_count": 46,
   "id": "66978ea7",
   "metadata": {
    "execution": {
     "iopub.execute_input": "2023-01-03T15:23:01.016929Z",
     "iopub.status.busy": "2023-01-03T15:23:01.016395Z",
     "iopub.status.idle": "2023-01-03T15:23:01.026699Z",
     "shell.execute_reply": "2023-01-03T15:23:01.025332Z"
    },
    "papermill": {
     "duration": 0.036046,
     "end_time": "2023-01-03T15:23:01.029817",
     "exception": false,
     "start_time": "2023-01-03T15:23:00.993771",
     "status": "completed"
    },
    "tags": []
   },
   "outputs": [
    {
     "name": "stdout",
     "output_type": "stream",
     "text": [
      "Mean Absolute Error: 6.3114195065943\n",
      "Mean Squared Error: 81.98905090694565\n",
      "Root Mean Squared Error: 9.054780555427373\n"
     ]
    }
   ],
   "source": [
    "from sklearn import metrics\n",
    "print('Mean Absolute Error:', metrics.mean_absolute_error(y_valid, y_predict))\n",
    "print('Mean Squared Error:', metrics.mean_squared_error(y_valid, y_predict))\n",
    "print('Root Mean Squared Error:', np.sqrt(metrics.mean_squared_error(y_valid, y_predict)))"
   ]
  },
  {
   "cell_type": "code",
   "execution_count": 47,
   "id": "2a806126",
   "metadata": {
    "execution": {
     "iopub.execute_input": "2023-01-03T15:23:01.072998Z",
     "iopub.status.busy": "2023-01-03T15:23:01.072578Z",
     "iopub.status.idle": "2023-01-03T15:23:01.077935Z",
     "shell.execute_reply": "2023-01-03T15:23:01.076588Z"
    },
    "papermill": {
     "duration": 0.030227,
     "end_time": "2023-01-03T15:23:01.080603",
     "exception": false,
     "start_time": "2023-01-03T15:23:01.050376",
     "status": "completed"
    },
    "tags": []
   },
   "outputs": [],
   "source": [
    "from scipy.stats import spearmanr"
   ]
  },
  {
   "cell_type": "code",
   "execution_count": 48,
   "id": "47cab001",
   "metadata": {
    "execution": {
     "iopub.execute_input": "2023-01-03T15:23:01.123288Z",
     "iopub.status.busy": "2023-01-03T15:23:01.122823Z",
     "iopub.status.idle": "2023-01-03T15:23:01.137363Z",
     "shell.execute_reply": "2023-01-03T15:23:01.135939Z"
    },
    "papermill": {
     "duration": 0.038991,
     "end_time": "2023-01-03T15:23:01.139895",
     "exception": false,
     "start_time": "2023-01-03T15:23:01.100904",
     "status": "completed"
    },
    "tags": []
   },
   "outputs": [
    {
     "data": {
      "text/plain": [
       "SpearmanrResult(correlation=0.5865643513296231, pvalue=0.0)"
      ]
     },
     "execution_count": 48,
     "metadata": {},
     "output_type": "execute_result"
    }
   ],
   "source": [
    "from scipy import stats\n",
    "\n",
    "stats.spearmanr(y_valid, y_predict)"
   ]
  },
  {
   "cell_type": "code",
   "execution_count": 49,
   "id": "26abfce7",
   "metadata": {
    "execution": {
     "iopub.execute_input": "2023-01-03T15:23:01.184830Z",
     "iopub.status.busy": "2023-01-03T15:23:01.184351Z",
     "iopub.status.idle": "2023-01-03T15:23:01.190246Z",
     "shell.execute_reply": "2023-01-03T15:23:01.188786Z"
    },
    "papermill": {
     "duration": 0.031519,
     "end_time": "2023-01-03T15:23:01.192780",
     "exception": false,
     "start_time": "2023-01-03T15:23:01.161261",
     "status": "completed"
    },
    "tags": []
   },
   "outputs": [],
   "source": [
    "submissionfile=pd.DataFrame()"
   ]
  },
  {
   "cell_type": "code",
   "execution_count": 50,
   "id": "58992804",
   "metadata": {
    "execution": {
     "iopub.execute_input": "2023-01-03T15:23:01.238792Z",
     "iopub.status.busy": "2023-01-03T15:23:01.238057Z",
     "iopub.status.idle": "2023-01-03T15:23:01.249114Z",
     "shell.execute_reply": "2023-01-03T15:23:01.247886Z"
    },
    "papermill": {
     "duration": 0.038043,
     "end_time": "2023-01-03T15:23:01.251805",
     "exception": false,
     "start_time": "2023-01-03T15:23:01.213762",
     "status": "completed"
    },
    "tags": []
   },
   "outputs": [
    {
     "data": {
      "text/html": [
       "<div>\n",
       "<style scoped>\n",
       "    .dataframe tbody tr th:only-of-type {\n",
       "        vertical-align: middle;\n",
       "    }\n",
       "\n",
       "    .dataframe tbody tr th {\n",
       "        vertical-align: top;\n",
       "    }\n",
       "\n",
       "    .dataframe thead th {\n",
       "        text-align: right;\n",
       "    }\n",
       "</style>\n",
       "<table border=\"1\" class=\"dataframe\">\n",
       "  <thead>\n",
       "    <tr style=\"text-align: right;\">\n",
       "      <th></th>\n",
       "    </tr>\n",
       "  </thead>\n",
       "  <tbody>\n",
       "  </tbody>\n",
       "</table>\n",
       "</div>"
      ],
      "text/plain": [
       "Empty DataFrame\n",
       "Columns: []\n",
       "Index: []"
      ]
     },
     "execution_count": 50,
     "metadata": {},
     "output_type": "execute_result"
    }
   ],
   "source": [
    "submissionfile.head()"
   ]
  },
  {
   "cell_type": "code",
   "execution_count": 51,
   "id": "3739b372",
   "metadata": {
    "execution": {
     "iopub.execute_input": "2023-01-03T15:23:01.294874Z",
     "iopub.status.busy": "2023-01-03T15:23:01.294478Z",
     "iopub.status.idle": "2023-01-03T15:23:01.301653Z",
     "shell.execute_reply": "2023-01-03T15:23:01.300359Z"
    },
    "papermill": {
     "duration": 0.031983,
     "end_time": "2023-01-03T15:23:01.304309",
     "exception": false,
     "start_time": "2023-01-03T15:23:01.272326",
     "status": "completed"
    },
    "tags": []
   },
   "outputs": [],
   "source": [
    "submissionfile['seq_id']=testdata['seq_id']"
   ]
  },
  {
   "cell_type": "code",
   "execution_count": 52,
   "id": "9c766afb",
   "metadata": {
    "execution": {
     "iopub.execute_input": "2023-01-03T15:23:01.349026Z",
     "iopub.status.busy": "2023-01-03T15:23:01.348563Z",
     "iopub.status.idle": "2023-01-03T15:23:01.403997Z",
     "shell.execute_reply": "2023-01-03T15:23:01.402758Z"
    },
    "papermill": {
     "duration": 0.081528,
     "end_time": "2023-01-03T15:23:01.407089",
     "exception": false,
     "start_time": "2023-01-03T15:23:01.325561",
     "status": "completed"
    },
    "tags": []
   },
   "outputs": [],
   "source": [
    "submissionfile['tm'] =randomf_random.predict(testdata)"
   ]
  },
  {
   "cell_type": "code",
   "execution_count": 53,
   "id": "9482e1c2",
   "metadata": {
    "execution": {
     "iopub.execute_input": "2023-01-03T15:23:01.451833Z",
     "iopub.status.busy": "2023-01-03T15:23:01.451412Z",
     "iopub.status.idle": "2023-01-03T15:23:01.466359Z",
     "shell.execute_reply": "2023-01-03T15:23:01.465192Z"
    },
    "papermill": {
     "duration": 0.040786,
     "end_time": "2023-01-03T15:23:01.469215",
     "exception": false,
     "start_time": "2023-01-03T15:23:01.428429",
     "status": "completed"
    },
    "tags": []
   },
   "outputs": [],
   "source": [
    "submissionfile.to_csv('submission.csv',index=False)"
   ]
  },
  {
   "cell_type": "code",
   "execution_count": 54,
   "id": "e3427fbe",
   "metadata": {
    "execution": {
     "iopub.execute_input": "2023-01-03T15:23:01.514685Z",
     "iopub.status.busy": "2023-01-03T15:23:01.513780Z",
     "iopub.status.idle": "2023-01-03T15:23:01.530038Z",
     "shell.execute_reply": "2023-01-03T15:23:01.529059Z"
    },
    "papermill": {
     "duration": 0.042331,
     "end_time": "2023-01-03T15:23:01.532325",
     "exception": false,
     "start_time": "2023-01-03T15:23:01.489994",
     "status": "completed"
    },
    "tags": []
   },
   "outputs": [
    {
     "data": {
      "text/html": [
       "<div>\n",
       "<style scoped>\n",
       "    .dataframe tbody tr th:only-of-type {\n",
       "        vertical-align: middle;\n",
       "    }\n",
       "\n",
       "    .dataframe tbody tr th {\n",
       "        vertical-align: top;\n",
       "    }\n",
       "\n",
       "    .dataframe thead th {\n",
       "        text-align: right;\n",
       "    }\n",
       "</style>\n",
       "<table border=\"1\" class=\"dataframe\">\n",
       "  <thead>\n",
       "    <tr style=\"text-align: right;\">\n",
       "      <th></th>\n",
       "      <th>seq_id</th>\n",
       "      <th>tm</th>\n",
       "    </tr>\n",
       "  </thead>\n",
       "  <tbody>\n",
       "    <tr>\n",
       "      <th>0</th>\n",
       "      <td>31390</td>\n",
       "      <td>46.201353</td>\n",
       "    </tr>\n",
       "    <tr>\n",
       "      <th>1</th>\n",
       "      <td>31391</td>\n",
       "      <td>47.303865</td>\n",
       "    </tr>\n",
       "    <tr>\n",
       "      <th>2</th>\n",
       "      <td>31392</td>\n",
       "      <td>46.212345</td>\n",
       "    </tr>\n",
       "    <tr>\n",
       "      <th>3</th>\n",
       "      <td>31393</td>\n",
       "      <td>49.367841</td>\n",
       "    </tr>\n",
       "    <tr>\n",
       "      <th>4</th>\n",
       "      <td>31394</td>\n",
       "      <td>49.532414</td>\n",
       "    </tr>\n",
       "    <tr>\n",
       "      <th>...</th>\n",
       "      <td>...</td>\n",
       "      <td>...</td>\n",
       "    </tr>\n",
       "    <tr>\n",
       "      <th>2408</th>\n",
       "      <td>33798</td>\n",
       "      <td>46.614226</td>\n",
       "    </tr>\n",
       "    <tr>\n",
       "      <th>2409</th>\n",
       "      <td>33799</td>\n",
       "      <td>46.918925</td>\n",
       "    </tr>\n",
       "    <tr>\n",
       "      <th>2410</th>\n",
       "      <td>33800</td>\n",
       "      <td>46.802306</td>\n",
       "    </tr>\n",
       "    <tr>\n",
       "      <th>2411</th>\n",
       "      <td>33801</td>\n",
       "      <td>47.163734</td>\n",
       "    </tr>\n",
       "    <tr>\n",
       "      <th>2412</th>\n",
       "      <td>33802</td>\n",
       "      <td>46.701234</td>\n",
       "    </tr>\n",
       "  </tbody>\n",
       "</table>\n",
       "<p>2413 rows × 2 columns</p>\n",
       "</div>"
      ],
      "text/plain": [
       "      seq_id         tm\n",
       "0      31390  46.201353\n",
       "1      31391  47.303865\n",
       "2      31392  46.212345\n",
       "3      31393  49.367841\n",
       "4      31394  49.532414\n",
       "...      ...        ...\n",
       "2408   33798  46.614226\n",
       "2409   33799  46.918925\n",
       "2410   33800  46.802306\n",
       "2411   33801  47.163734\n",
       "2412   33802  46.701234\n",
       "\n",
       "[2413 rows x 2 columns]"
      ]
     },
     "execution_count": 54,
     "metadata": {},
     "output_type": "execute_result"
    }
   ],
   "source": [
    "submissionfile"
   ]
  },
  {
   "cell_type": "code",
   "execution_count": 55,
   "id": "5e292e31",
   "metadata": {
    "execution": {
     "iopub.execute_input": "2023-01-03T15:23:01.576905Z",
     "iopub.status.busy": "2023-01-03T15:23:01.576184Z",
     "iopub.status.idle": "2023-01-03T15:23:01.580793Z",
     "shell.execute_reply": "2023-01-03T15:23:01.579745Z"
    },
    "papermill": {
     "duration": 0.030269,
     "end_time": "2023-01-03T15:23:01.583404",
     "exception": false,
     "start_time": "2023-01-03T15:23:01.553135",
     "status": "completed"
    },
    "tags": []
   },
   "outputs": [],
   "source": [
    "from IPython.display import FileLink\n"
   ]
  },
  {
   "cell_type": "code",
   "execution_count": 56,
   "id": "574c86ec",
   "metadata": {
    "execution": {
     "iopub.execute_input": "2023-01-03T15:23:01.629683Z",
     "iopub.status.busy": "2023-01-03T15:23:01.629007Z",
     "iopub.status.idle": "2023-01-03T15:23:01.635958Z",
     "shell.execute_reply": "2023-01-03T15:23:01.634730Z"
    },
    "papermill": {
     "duration": 0.033416,
     "end_time": "2023-01-03T15:23:01.638586",
     "exception": false,
     "start_time": "2023-01-03T15:23:01.605170",
     "status": "completed"
    },
    "tags": []
   },
   "outputs": [
    {
     "data": {
      "text/html": [
       "<a href='submission.csv' target='_blank'>submission.csv</a><br>"
      ],
      "text/plain": [
       "/kaggle/working/submission.csv"
      ]
     },
     "execution_count": 56,
     "metadata": {},
     "output_type": "execute_result"
    }
   ],
   "source": [
    "FileLink('submission.csv')"
   ]
  },
  {
   "cell_type": "code",
   "execution_count": null,
   "id": "f5bffc0f",
   "metadata": {
    "papermill": {
     "duration": 0.020773,
     "end_time": "2023-01-03T15:23:01.680584",
     "exception": false,
     "start_time": "2023-01-03T15:23:01.659811",
     "status": "completed"
    },
    "tags": []
   },
   "outputs": [],
   "source": []
  }
 ],
 "metadata": {
  "kernelspec": {
   "display_name": "Python 3",
   "language": "python",
   "name": "python3"
  },
  "language_info": {
   "codemirror_mode": {
    "name": "ipython",
    "version": 3
   },
   "file_extension": ".py",
   "mimetype": "text/x-python",
   "name": "python",
   "nbconvert_exporter": "python",
   "pygments_lexer": "ipython3",
   "version": "3.7.12"
  },
  "papermill": {
   "default_parameters": {},
   "duration": 732.151121,
   "end_time": "2023-01-03T15:23:04.325902",
   "environment_variables": {},
   "exception": null,
   "input_path": "__notebook__.ipynb",
   "output_path": "__notebook__.ipynb",
   "parameters": {},
   "start_time": "2023-01-03T15:10:52.174781",
   "version": "2.3.4"
  }
 },
 "nbformat": 4,
 "nbformat_minor": 5
}
